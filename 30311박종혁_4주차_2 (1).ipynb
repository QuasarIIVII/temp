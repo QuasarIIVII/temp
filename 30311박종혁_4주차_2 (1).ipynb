{
  "nbformat": 4,
  "nbformat_minor": 0,
  "metadata": {
    "colab": {
      "provenance": [],
      "toc_visible": true
    },
    "kernelspec": {
      "name": "python3",
      "display_name": "Python 3"
    },
    "language_info": {
      "name": "python"
    }
  },
  "cells": [
    {
      "cell_type": "markdown",
      "source": [
        "※ [File]-[Drive에 사본 저장]을 클릭하고 파일 이름을 본인의 학번과 이름으로 변경하여 저장하시오.\n",
        "\n",
        "[실습1] Car 클래스를 정의하여 실행하시오."
      ],
      "metadata": {
        "id": "MjgMbo46MlzS"
      }
    },
    {
      "cell_type": "code",
      "source": [
        "# 아래에 코드를 입력하고 실행결과를 확인해 보자.\n",
        "class Car:\n",
        "  make_year=2020\n",
        "  color=\"RED\"\n",
        "  def drive(self, direction):\n",
        "    print(direction, '방향으로 운행합니다')\n",
        "car1=Car()\n",
        "print(car1.color)\n",
        "car1.drive(\"왼쪽\")\n",
        "\n",
        "\n",
        "\n",
        "\n"
      ],
      "metadata": {
        "id": "Ew5Zns2SM_r-",
        "colab": {
          "base_uri": "https://localhost:8080/"
        },
        "outputId": "56120642-ba9e-4776-c7ee-cea5945a9732"
      },
      "execution_count": 3,
      "outputs": [
        {
          "output_type": "stream",
          "name": "stdout",
          "text": [
            "RED\n",
            "왼쪽 방향으로 운행합니다\n"
          ]
        }
      ]
    },
    {
      "cell_type": "markdown",
      "source": [
        "[실습2] Pandas 모듈을 이용하여 데이터 프레임을 만들고 데이터 특징을 확인해 보자."
      ],
      "metadata": {
        "id": "_dgoM2wXNTqW"
      }
    },
    {
      "cell_type": "code",
      "source": [
        "# [실습2] 아래에 코드를 입력하고 실행결과를 확인해 보자.\n",
        "import pandas as pd\n",
        "df=pd.DataFrame({'x':[1,2,3]})\n",
        "df.head()\n",
        "print(df.shape)\n",
        "\n"
      ],
      "metadata": {
        "id": "A8nl4-xVNwuX",
        "colab": {
          "base_uri": "https://localhost:8080/"
        },
        "outputId": "1e9fe72f-3ed6-48f6-ab30-b0642494f249"
      },
      "execution_count": 4,
      "outputs": [
        {
          "output_type": "stream",
          "name": "stdout",
          "text": [
            "(3, 1)\n"
          ]
        }
      ]
    },
    {
      "cell_type": "markdown",
      "source": [
        "[실습3] 두 수를 입력받아서 더하기와 곱하기 결과를 출력해주는 Calc 클래스를 정의하고 실행 결과를 확인하시오."
      ],
      "metadata": {
        "id": "_lgsZVmzN2wJ"
      }
    },
    {
      "cell_type": "code",
      "source": [
        "# [실습3] 아래에 코드를 입력하고 실행결과를 확인해 보자.\n",
        "class Calc:\n",
        "  def sum(self, x, y):\n",
        "    result=x+y\n",
        "    print(f'내이름은 {x}+{y}={result}입니다')\n",
        "  def prod(self, x, y):\n",
        "    result=x*y\n",
        "    print(f'내이름은 {x}+{y}={result}입니다')\n",
        "ad=Calc()\n",
        "ad.sum(4,5)\n",
        "ad.prod(5,6)\n",
        "\n",
        "\n",
        "\n",
        "\n",
        "\n",
        "\n",
        "\n"
      ],
      "metadata": {
        "id": "jPaHYjBtOAVb",
        "colab": {
          "base_uri": "https://localhost:8080/"
        },
        "outputId": "1911aebb-ef13-43bf-e4ce-2591d70707d3"
      },
      "execution_count": 7,
      "outputs": [
        {
          "output_type": "stream",
          "name": "stdout",
          "text": [
            "내이름은 4+5=9입니다\n",
            "내이름은 5+6=30입니다\n"
          ]
        }
      ]
    },
    {
      "cell_type": "code",
      "source": [],
      "metadata": {
        "id": "Kq7jXIR2RHf9"
      },
      "execution_count": null,
      "outputs": []
    },
    {
      "cell_type": "code",
      "source": [
        "# 출력 형태 참고 \n",
        "a=\"홍길동\"\n",
        "print(f'내 이름은 {a}입니다')"
      ],
      "metadata": {
        "id": "oztA07iaDFfx"
      },
      "execution_count": null,
      "outputs": []
    },
    {
      "cell_type": "markdown",
      "source": [
        "# 오류 메세지가 발생하는 코드를 실행해보고 오류를 수정해 봅시다."
      ],
      "metadata": {
        "id": "dcMuXTpFPU-k"
      }
    },
    {
      "cell_type": "code",
      "source": [
        "# 1) SyntaxError: 문법 규칙을 어긴 경우\n",
        "print(\"hello\")"
      ],
      "metadata": {
        "id": "3NNPoAWfOree",
        "colab": {
          "base_uri": "https://localhost:8080/"
        },
        "outputId": "1ba1e1ca-cba8-406a-e777-48080e0229e5"
      },
      "execution_count": 9,
      "outputs": [
        {
          "output_type": "stream",
          "name": "stdout",
          "text": [
            "hello\n"
          ]
        }
      ]
    },
    {
      "cell_type": "code",
      "source": [
        "# 2) NameError : 변수명을 정의하지 않고 사용했을 때나 함수명이 틀렸을 때\n",
        "print('a')"
      ],
      "metadata": {
        "id": "5i2nsbTtQUjF",
        "colab": {
          "base_uri": "https://localhost:8080/"
        },
        "outputId": "c9d5b8d5-0eb2-4f32-db76-a49597ce7068"
      },
      "execution_count": 11,
      "outputs": [
        {
          "output_type": "stream",
          "name": "stdout",
          "text": [
            "a\n"
          ]
        }
      ]
    },
    {
      "cell_type": "code",
      "source": [
        "# 3) TypeError: 데이터 타입이 안 맞을 때\n",
        "print(3, a)"
      ],
      "metadata": {
        "id": "58Sy1e4iMjoa",
        "colab": {
          "base_uri": "https://localhost:8080/"
        },
        "outputId": "f4693b8d-adf2-4091-ee34-b3e4af3f0e5c"
      },
      "execution_count": 20,
      "outputs": [
        {
          "output_type": "stream",
          "name": "stdout",
          "text": [
            "3 [3, 7, 10, 5]\n"
          ]
        }
      ]
    },
    {
      "cell_type": "code",
      "source": [
        "# 4) FileNotFoundError: 파일명이 틀렸거나 파일을 못 찾았을 때\n",
        "#f=pd.read_csv(\"exam.csv\")"
      ],
      "metadata": {
        "id": "ZftwWmELQzi9"
      },
      "execution_count": 21,
      "outputs": []
    },
    {
      "cell_type": "code",
      "source": [
        "# 5) KeyError: 데이터 프레임의 변수명이나 딕셔너리의 키를 잘 못 적었을 때\n",
        "import pandas as pd\n",
        "f=pd.DataFrame( { \"nclass\":[1,2,3], \"kor\":[80,70,55], \"eng\":[90,88,79] } )\n",
        "f[\"nclass\"]"
      ],
      "metadata": {
        "id": "deF4Me0HRIlo",
        "colab": {
          "base_uri": "https://localhost:8080/"
        },
        "outputId": "ce0cea00-2c16-46b5-f12a-a44d71770295"
      },
      "execution_count": 18,
      "outputs": [
        {
          "output_type": "execute_result",
          "data": {
            "text/plain": [
              "0    1\n",
              "1    2\n",
              "2    3\n",
              "Name: nclass, dtype: int64"
            ]
          },
          "metadata": {},
          "execution_count": 18
        }
      ]
    },
    {
      "cell_type": "code",
      "source": [
        "# 6) AttributeError: 객체의 속성 이름이 틀리거나 없는 경우\n",
        "f=pd.DataFrame( { \"nclass\":[1,2,3], \"kor\":[80,70,55], \"eng\":[90,88,79] } )\n",
        "f.haed()"
      ],
      "metadata": {
        "id": "ipy35eydRm6v"
      },
      "execution_count": null,
      "outputs": []
    },
    {
      "cell_type": "code",
      "source": [
        "%%shell\n",
        "pip install gtts"
      ],
      "metadata": {
        "colab": {
          "base_uri": "https://localhost:8080/"
        },
        "id": "bS4UjunXTnYW",
        "outputId": "156b5545-fd59-4091-b75c-e1b573658b6f"
      },
      "execution_count": 22,
      "outputs": [
        {
          "output_type": "stream",
          "name": "stdout",
          "text": [
            "Looking in indexes: https://pypi.org/simple, https://us-python.pkg.dev/colab-wheels/public/simple/\n",
            "Collecting gtts\n",
            "  Downloading gTTS-2.3.1-py3-none-any.whl (28 kB)\n",
            "Requirement already satisfied: click<8.2,>=7.1 in /usr/local/lib/python3.9/dist-packages (from gtts) (8.1.3)\n",
            "Requirement already satisfied: requests<3,>=2.27 in /usr/local/lib/python3.9/dist-packages (from gtts) (2.27.1)\n",
            "Requirement already satisfied: charset-normalizer~=2.0.0 in /usr/local/lib/python3.9/dist-packages (from requests<3,>=2.27->gtts) (2.0.12)\n",
            "Requirement already satisfied: urllib3<1.27,>=1.21.1 in /usr/local/lib/python3.9/dist-packages (from requests<3,>=2.27->gtts) (1.26.15)\n",
            "Requirement already satisfied: idna<4,>=2.5 in /usr/local/lib/python3.9/dist-packages (from requests<3,>=2.27->gtts) (3.4)\n",
            "Requirement already satisfied: certifi>=2017.4.17 in /usr/local/lib/python3.9/dist-packages (from requests<3,>=2.27->gtts) (2022.12.7)\n",
            "Installing collected packages: gtts\n",
            "Successfully installed gtts-2.3.1\n"
          ]
        },
        {
          "output_type": "execute_result",
          "data": {
            "text/plain": []
          },
          "metadata": {},
          "execution_count": 22
        }
      ]
    },
    {
      "cell_type": "code",
      "execution_count": 23,
      "metadata": {
        "id": "sVeLIa8d_a4n"
      },
      "outputs": [],
      "source": [
        "# 7) ImportError: 모듈 이름이 틀리거나 없는 경우\n",
        "from gtts import gTTS\n",
        "text =\"안녕하세요, 여러분. 파이썬으로 노는 것은 재미있습니다!!!\"\n",
        "\n",
        "tts = gTTS(text=text, lang='ko')\n",
        "tts.save(\"helloKO.mp3\")"
      ]
    },
    {
      "cell_type": "code",
      "source": [
        "# 8) IndexError: 리스트의 인덱스 범위를 벗어난 경우\n",
        "arr=[10,20,30]\n",
        "print(arr[2])"
      ],
      "metadata": {
        "id": "67WoS04KR5K2",
        "colab": {
          "base_uri": "https://localhost:8080/"
        },
        "outputId": "f2ac3326-eed2-4c4b-885e-cd36f6bd5b41"
      },
      "execution_count": 15,
      "outputs": [
        {
          "output_type": "stream",
          "name": "stdout",
          "text": [
            "30\n"
          ]
        }
      ]
    },
    {
      "cell_type": "code",
      "source": [
        "# 9) ZeroDivisionError: 0으로 나뉜 경우\n",
        "\n",
        "a=[3,7,10,5]\n",
        "for i in a:\n",
        "    print(10/i)\n"
      ],
      "metadata": {
        "id": "SAU4ACinB5P6",
        "colab": {
          "base_uri": "https://localhost:8080/"
        },
        "outputId": "ca3a5fb6-4eea-4462-fec1-4322670609f7"
      },
      "execution_count": 16,
      "outputs": [
        {
          "output_type": "stream",
          "name": "stdout",
          "text": [
            "3.3333333333333335\n",
            "1.4285714285714286\n",
            "1.0\n",
            "2.0\n"
          ]
        }
      ]
    },
    {
      "cell_type": "markdown",
      "source": [
        "※ 파일을 HTML 문서로 변환하여 제출하시오.\n",
        "1) [파일]-[다운로드]를 클릭하여 코드 파일 다운로드하기\n",
        "2) 다운로드 한 파일을 코랩의 왼쪽 파일 창에 드래그하여 업로드하기\n",
        "3) ipynb 파일을 마우스 오른버튼으로 클릭하여 [경로 복사] 선택\n",
        "4) 코드셀에 다음과 같이 입력하고 실행\n",
        "\n",
        "%%shell\n",
        "jupyter nbconvert --to html 복사한 파일 경로\n",
        "\n",
        "5) 파일 검색창의 [새로고침] 버튼 클릭\n",
        "6) html 파일을 클릭하여 [다운로드] → 제출"
      ],
      "metadata": {
        "id": "YjMzODBJKdlu"
      }
    },
    {
      "cell_type": "code",
      "source": [
        "%%shell\n",
        "jupyter nbconvert --to html /content/30311박종혁_4주차_2.ipynb"
      ],
      "metadata": {
        "id": "ojsvUmF5Kgx9",
        "colab": {
          "base_uri": "https://localhost:8080/"
        },
        "outputId": "969525ae-2bfd-460b-bc8e-5267f597e2b3"
      },
      "execution_count": 8,
      "outputs": [
        {
          "output_type": "stream",
          "name": "stdout",
          "text": [
            "[NbConvertApp] Converting notebook /content/30311박종혁_4주차_2.ipynb to html\n",
            "[NbConvertApp] Writing 595501 bytes to /content/30311박종혁_4주차_2.html\n"
          ]
        },
        {
          "output_type": "execute_result",
          "data": {
            "text/plain": []
          },
          "metadata": {},
          "execution_count": 8
        }
      ]
    }
  ]
}