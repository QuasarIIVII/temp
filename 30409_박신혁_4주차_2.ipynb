{
  "nbformat": 4,
  "nbformat_minor": 0,
  "metadata": {
    "colab": {
      "provenance": []
    },
    "kernelspec": {
      "name": "python3",
      "display_name": "Python 3"
    },
    "language_info": {
      "name": "python"
    }
  },
  "cells": [
    {
      "cell_type": "markdown",
      "source": [
        "※ [File]-[Drive에 사본 저장]을 클릭하고 파일 이름을 본인의 학번과 이름으로 변경하여 저장하시오.\n",
        "\n",
        "[실습1] Car 클래스를 정의하여 실행하시오."
      ],
      "metadata": {
        "id": "MjgMbo46MlzS"
      }
    },
    {
      "cell_type": "code",
      "source": [
        "# 아래에 코드를 입력하고 실행결과를 확인해 보자.\n",
        "class Car:\n",
        "  makeYear=2020\n",
        "  color=\"Read\"\n",
        "  def drive(self, direction):\n",
        "    print(f\"Drive in {direction} way\")\n",
        "car1=Car()\n",
        "print(car1.color)\n",
        "car1.drive(\"left\")"
      ],
      "metadata": {
        "id": "Ew5Zns2SM_r-",
        "colab": {
          "base_uri": "https://localhost:8080/"
        },
        "outputId": "c8675a04-ab60-43f8-89bc-9ce29ddf60e6"
      },
      "execution_count": null,
      "outputs": [
        {
          "output_type": "stream",
          "name": "stdout",
          "text": [
            "Read\n",
            "Drive in left way\n"
          ]
        }
      ]
    },
    {
      "cell_type": "markdown",
      "source": [
        "[실습2] Pandas 모듈을 이용하여 데이터 프레임을 만들고 데이터 특징을 확인해 보자."
      ],
      "metadata": {
        "id": "_dgoM2wXNTqW"
      }
    },
    {
      "cell_type": "code",
      "source": [
        "# [실습2] 아래에 코드를 입력하고 실행결과를 확인해 보자.\n",
        "import pandas as pd\n",
        "df=pd.DataFrame({'x':[1,2,3]})\n",
        "df.head()\n",
        "print(df.shape)"
      ],
      "metadata": {
        "id": "A8nl4-xVNwuX",
        "colab": {
          "base_uri": "https://localhost:8080/"
        },
        "outputId": "f888e20b-ccaf-4e6e-927c-b4717553eec3"
      },
      "execution_count": null,
      "outputs": [
        {
          "output_type": "stream",
          "name": "stdout",
          "text": [
            "(3, 1)\n"
          ]
        }
      ]
    },
    {
      "cell_type": "markdown",
      "source": [
        "[실습3] 두 수를 입력받아서 더하기와 곱하기 결과를 출력해주는 Calc 클래스를 정의하고 실행 결과를 확인하시오."
      ],
      "metadata": {
        "id": "_lgsZVmzN2wJ"
      }
    },
    {
      "cell_type": "code",
      "source": [
        "# [실습3] 아래에 코드를 입력하고 실행결과를 확인해 보자.\n",
        "class Calc:\n",
        "  def add(_,__):return _+__\n",
        "  def mul(_,__):return _*__\n",
        "print(f\"2+3={Calc.add(2,3)}\\n2*3={Calc.mul(2,3)}\")"
      ],
      "metadata": {
        "id": "jPaHYjBtOAVb",
        "colab": {
          "base_uri": "https://localhost:8080/"
        },
        "outputId": "ae96597a-d927-47d1-c5ed-87a27388977e"
      },
      "execution_count": null,
      "outputs": [
        {
          "output_type": "stream",
          "name": "stdout",
          "text": [
            "2+3=5\n",
            "2*3=6\n"
          ]
        }
      ]
    },
    {
      "cell_type": "code",
      "source": [
        "# 출력 형태 참고 \n",
        "a=\"홍길동\"\n",
        "print(f'내 이름은 {a}입니다')"
      ],
      "metadata": {
        "id": "oztA07iaDFfx",
        "colab": {
          "base_uri": "https://localhost:8080/"
        },
        "outputId": "3af04c9f-2911-4f2a-d9cb-ad6f331c4f1a"
      },
      "execution_count": null,
      "outputs": [
        {
          "output_type": "stream",
          "name": "stdout",
          "text": [
            "내 이름은 홍길동입니다\n"
          ]
        }
      ]
    },
    {
      "cell_type": "markdown",
      "source": [
        "# 오류 메세지가 발생하는 코드를 실행해보고 오류를 수정해 봅시다."
      ],
      "metadata": {
        "id": "dcMuXTpFPU-k"
      }
    },
    {
      "cell_type": "code",
      "source": [
        "# 1) SyntaxError: 문법 규칙을 어긴 경우\n",
        "print(\"hello\")"
      ],
      "metadata": {
        "id": "3NNPoAWfOree",
        "colab": {
          "base_uri": "https://localhost:8080/"
        },
        "outputId": "55aed77b-356f-40eb-e42f-1c112cfbc9d0"
      },
      "execution_count": null,
      "outputs": [
        {
          "output_type": "stream",
          "name": "stdout",
          "text": [
            "hello\n"
          ]
        }
      ]
    },
    {
      "cell_type": "code",
      "source": [
        "# 2) NameError : 변수명을 정의하지 않고 사용했을 때나 함수명이 틀렸을 때\n",
        "print(a)"
      ],
      "metadata": {
        "id": "5i2nsbTtQUjF",
        "colab": {
          "base_uri": "https://localhost:8080/"
        },
        "outputId": "0e646700-a0ed-4520-cff6-9c7409c6c41b"
      },
      "execution_count": null,
      "outputs": [
        {
          "output_type": "stream",
          "name": "stdout",
          "text": [
            "홍길동\n"
          ]
        }
      ]
    },
    {
      "cell_type": "code",
      "source": [
        "# 3) TypeError: 데이터 타입이 안 맞을 때\n",
        "print(str(3)+\"a\")"
      ],
      "metadata": {
        "id": "58Sy1e4iMjoa",
        "colab": {
          "base_uri": "https://localhost:8080/"
        },
        "outputId": "714a65c2-8c3d-40cd-fc76-431db2899ab4"
      },
      "execution_count": null,
      "outputs": [
        {
          "output_type": "stream",
          "name": "stdout",
          "text": [
            "3a\n"
          ]
        }
      ]
    },
    {
      "cell_type": "code",
      "source": [
        "# 4) FileNotFoundError: 파일명이 틀렸거나 파일을 못 찾았을 때\n",
        "#f=pd.read_csv(\"exam.csv\")"
      ],
      "metadata": {
        "id": "ZftwWmELQzi9"
      },
      "execution_count": null,
      "outputs": []
    },
    {
      "cell_type": "code",
      "source": [
        "# 5) KeyError: 데이터 프레임의 변수명이나 딕셔너리의 키를 잘 못 적었을 때\n",
        "import pandas as pd\n",
        "f=pd.DataFrame( { \"nclass\":[1,2,3], \"kor\":[80,70,55], \"eng\":[90,88,79] } )\n",
        "f[\"nclass\"]"
      ],
      "metadata": {
        "id": "deF4Me0HRIlo",
        "colab": {
          "base_uri": "https://localhost:8080/"
        },
        "outputId": "46f558d9-0040-4488-bace-a4514b99d972"
      },
      "execution_count": 23,
      "outputs": [
        {
          "output_type": "execute_result",
          "data": {
            "text/plain": [
              "0    1\n",
              "1    2\n",
              "2    3\n",
              "Name: nclass, dtype: int64"
            ]
          },
          "metadata": {},
          "execution_count": 23
        }
      ]
    },
    {
      "cell_type": "code",
      "source": [
        "# 6) AttributeError: 객체의 속성 이름이 틀리거나 없는 경우\n",
        "f=pd.DataFrame( { \"nclass\":[1,2,3], \"kor\":[80,70,55], \"eng\":[90,88,79] } )\n",
        "f.head()"
      ],
      "metadata": {
        "id": "ipy35eydRm6v",
        "colab": {
          "base_uri": "https://localhost:8080/",
          "height": 142
        },
        "outputId": "fb85f011-0fb4-4bb1-e32b-4885281b008c"
      },
      "execution_count": 25,
      "outputs": [
        {
          "output_type": "execute_result",
          "data": {
            "text/plain": [
              "   nclass  kor  eng\n",
              "0       1   80   90\n",
              "1       2   70   88\n",
              "2       3   55   79"
            ],
            "text/html": [
              "\n",
              "  <div id=\"df-1001480f-2024-459b-8d23-5f1f19dee26a\">\n",
              "    <div class=\"colab-df-container\">\n",
              "      <div>\n",
              "<style scoped>\n",
              "    .dataframe tbody tr th:only-of-type {\n",
              "        vertical-align: middle;\n",
              "    }\n",
              "\n",
              "    .dataframe tbody tr th {\n",
              "        vertical-align: top;\n",
              "    }\n",
              "\n",
              "    .dataframe thead th {\n",
              "        text-align: right;\n",
              "    }\n",
              "</style>\n",
              "<table border=\"1\" class=\"dataframe\">\n",
              "  <thead>\n",
              "    <tr style=\"text-align: right;\">\n",
              "      <th></th>\n",
              "      <th>nclass</th>\n",
              "      <th>kor</th>\n",
              "      <th>eng</th>\n",
              "    </tr>\n",
              "  </thead>\n",
              "  <tbody>\n",
              "    <tr>\n",
              "      <th>0</th>\n",
              "      <td>1</td>\n",
              "      <td>80</td>\n",
              "      <td>90</td>\n",
              "    </tr>\n",
              "    <tr>\n",
              "      <th>1</th>\n",
              "      <td>2</td>\n",
              "      <td>70</td>\n",
              "      <td>88</td>\n",
              "    </tr>\n",
              "    <tr>\n",
              "      <th>2</th>\n",
              "      <td>3</td>\n",
              "      <td>55</td>\n",
              "      <td>79</td>\n",
              "    </tr>\n",
              "  </tbody>\n",
              "</table>\n",
              "</div>\n",
              "      <button class=\"colab-df-convert\" onclick=\"convertToInteractive('df-1001480f-2024-459b-8d23-5f1f19dee26a')\"\n",
              "              title=\"Convert this dataframe to an interactive table.\"\n",
              "              style=\"display:none;\">\n",
              "        \n",
              "  <svg xmlns=\"http://www.w3.org/2000/svg\" height=\"24px\"viewBox=\"0 0 24 24\"\n",
              "       width=\"24px\">\n",
              "    <path d=\"M0 0h24v24H0V0z\" fill=\"none\"/>\n",
              "    <path d=\"M18.56 5.44l.94 2.06.94-2.06 2.06-.94-2.06-.94-.94-2.06-.94 2.06-2.06.94zm-11 1L8.5 8.5l.94-2.06 2.06-.94-2.06-.94L8.5 2.5l-.94 2.06-2.06.94zm10 10l.94 2.06.94-2.06 2.06-.94-2.06-.94-.94-2.06-.94 2.06-2.06.94z\"/><path d=\"M17.41 7.96l-1.37-1.37c-.4-.4-.92-.59-1.43-.59-.52 0-1.04.2-1.43.59L10.3 9.45l-7.72 7.72c-.78.78-.78 2.05 0 2.83L4 21.41c.39.39.9.59 1.41.59.51 0 1.02-.2 1.41-.59l7.78-7.78 2.81-2.81c.8-.78.8-2.07 0-2.86zM5.41 20L4 18.59l7.72-7.72 1.47 1.35L5.41 20z\"/>\n",
              "  </svg>\n",
              "      </button>\n",
              "      \n",
              "  <style>\n",
              "    .colab-df-container {\n",
              "      display:flex;\n",
              "      flex-wrap:wrap;\n",
              "      gap: 12px;\n",
              "    }\n",
              "\n",
              "    .colab-df-convert {\n",
              "      background-color: #E8F0FE;\n",
              "      border: none;\n",
              "      border-radius: 50%;\n",
              "      cursor: pointer;\n",
              "      display: none;\n",
              "      fill: #1967D2;\n",
              "      height: 32px;\n",
              "      padding: 0 0 0 0;\n",
              "      width: 32px;\n",
              "    }\n",
              "\n",
              "    .colab-df-convert:hover {\n",
              "      background-color: #E2EBFA;\n",
              "      box-shadow: 0px 1px 2px rgba(60, 64, 67, 0.3), 0px 1px 3px 1px rgba(60, 64, 67, 0.15);\n",
              "      fill: #174EA6;\n",
              "    }\n",
              "\n",
              "    [theme=dark] .colab-df-convert {\n",
              "      background-color: #3B4455;\n",
              "      fill: #D2E3FC;\n",
              "    }\n",
              "\n",
              "    [theme=dark] .colab-df-convert:hover {\n",
              "      background-color: #434B5C;\n",
              "      box-shadow: 0px 1px 3px 1px rgba(0, 0, 0, 0.15);\n",
              "      filter: drop-shadow(0px 1px 2px rgba(0, 0, 0, 0.3));\n",
              "      fill: #FFFFFF;\n",
              "    }\n",
              "  </style>\n",
              "\n",
              "      <script>\n",
              "        const buttonEl =\n",
              "          document.querySelector('#df-1001480f-2024-459b-8d23-5f1f19dee26a button.colab-df-convert');\n",
              "        buttonEl.style.display =\n",
              "          google.colab.kernel.accessAllowed ? 'block' : 'none';\n",
              "\n",
              "        async function convertToInteractive(key) {\n",
              "          const element = document.querySelector('#df-1001480f-2024-459b-8d23-5f1f19dee26a');\n",
              "          const dataTable =\n",
              "            await google.colab.kernel.invokeFunction('convertToInteractive',\n",
              "                                                     [key], {});\n",
              "          if (!dataTable) return;\n",
              "\n",
              "          const docLinkHtml = 'Like what you see? Visit the ' +\n",
              "            '<a target=\"_blank\" href=https://colab.research.google.com/notebooks/data_table.ipynb>data table notebook</a>'\n",
              "            + ' to learn more about interactive tables.';\n",
              "          element.innerHTML = '';\n",
              "          dataTable['output_type'] = 'display_data';\n",
              "          await google.colab.output.renderOutput(dataTable, element);\n",
              "          const docLink = document.createElement('div');\n",
              "          docLink.innerHTML = docLinkHtml;\n",
              "          element.appendChild(docLink);\n",
              "        }\n",
              "      </script>\n",
              "    </div>\n",
              "  </div>\n",
              "  "
            ]
          },
          "metadata": {},
          "execution_count": 25
        }
      ]
    },
    {
      "cell_type": "code",
      "source": [
        "%%shell\n",
        "pip install gtts"
      ],
      "metadata": {
        "id": "1iY_lQqBSiaJ",
        "colab": {
          "base_uri": "https://localhost:8080/"
        },
        "outputId": "d234d58c-0e73-4988-c642-fca6b7160225"
      },
      "execution_count": 19,
      "outputs": [
        {
          "output_type": "stream",
          "name": "stdout",
          "text": [
            "Looking in indexes: https://pypi.org/simple, https://us-python.pkg.dev/colab-wheels/public/simple/\n",
            "Collecting gtts\n",
            "  Downloading gTTS-2.3.1-py3-none-any.whl (28 kB)\n",
            "Requirement already satisfied: click<8.2,>=7.1 in /usr/local/lib/python3.9/dist-packages (from gtts) (8.1.3)\n",
            "Requirement already satisfied: requests<3,>=2.27 in /usr/local/lib/python3.9/dist-packages (from gtts) (2.27.1)\n",
            "Requirement already satisfied: idna<4,>=2.5 in /usr/local/lib/python3.9/dist-packages (from requests<3,>=2.27->gtts) (3.4)\n",
            "Requirement already satisfied: charset-normalizer~=2.0.0 in /usr/local/lib/python3.9/dist-packages (from requests<3,>=2.27->gtts) (2.0.12)\n",
            "Requirement already satisfied: certifi>=2017.4.17 in /usr/local/lib/python3.9/dist-packages (from requests<3,>=2.27->gtts) (2022.12.7)\n",
            "Requirement already satisfied: urllib3<1.27,>=1.21.1 in /usr/local/lib/python3.9/dist-packages (from requests<3,>=2.27->gtts) (1.26.15)\n",
            "Installing collected packages: gtts\n",
            "Successfully installed gtts-2.3.1\n"
          ]
        },
        {
          "output_type": "execute_result",
          "data": {
            "text/plain": []
          },
          "metadata": {},
          "execution_count": 19
        }
      ]
    },
    {
      "cell_type": "code",
      "execution_count": 20,
      "metadata": {
        "id": "sVeLIa8d_a4n"
      },
      "outputs": [],
      "source": [
        "# 7) ImportError: 모듈 이름이 틀리거나 없는 경우\n",
        "from gtts import gTTS\n",
        "text =\"안녕하세요, 여러분. 파이썬으로 노는 것은 재미있습니다!!!\"\n",
        "\n",
        "tts = gTTS(text=text, lang='ko')\n",
        "tts.save(\"helloKO.mp3\")"
      ]
    },
    {
      "cell_type": "code",
      "source": [
        "# 8) IndexError: 리스트의 인덱스 범위를 벗어난 경우\n",
        "arr=[10,20,30]\n",
        "print(arr[2])"
      ],
      "metadata": {
        "id": "67WoS04KR5K2",
        "colab": {
          "base_uri": "https://localhost:8080/"
        },
        "outputId": "0ec4a623-8b9c-4324-de08-33fcbf19c404"
      },
      "execution_count": 26,
      "outputs": [
        {
          "output_type": "stream",
          "name": "stdout",
          "text": [
            "30\n"
          ]
        }
      ]
    },
    {
      "cell_type": "code",
      "source": [
        "# 9) ZeroDivisionError: 0으로 나뉜 경우\n",
        "\n",
        "a=[3,7,0,5]\n",
        "for i in a:\n",
        "    print(10/i if i else \"Error : Divided by 0\")\n"
      ],
      "metadata": {
        "id": "SAU4ACinB5P6",
        "colab": {
          "base_uri": "https://localhost:8080/"
        },
        "outputId": "6562a5e0-dd38-4819-fa59-ef2902398cff"
      },
      "execution_count": 28,
      "outputs": [
        {
          "output_type": "stream",
          "name": "stdout",
          "text": [
            "3.3333333333333335\n",
            "1.4285714285714286\n",
            "Error : Divided by 0\n",
            "2.0\n"
          ]
        }
      ]
    },
    {
      "cell_type": "markdown",
      "source": [
        "※ 파일을 HTML 문서로 변환하여 제출하시오.\n",
        "1) [파일]-[다운로드]를 클릭하여 코드 파일 다운로드하기\n",
        "2) 다운로드 한 파일을 코랩의 왼쪽 파일 창에 드래그하여 업로드하기\n",
        "3) ipynb 파일을 마우스 오른버튼으로 클릭하여 [경로 복사] 선택\n",
        "4) 코드셀에 다음과 같이 입력하고 실행\n",
        "\n",
        "%%shell\n",
        "jupyter nbconvert --to html 복사한 파일 경로\n",
        "\n",
        "5) 파일 검색창의 [새로고침] 버튼 클릭\n",
        "6) html 파일을 클릭하여 [다운로드] → 제출"
      ],
      "metadata": {
        "id": "YjMzODBJKdlu"
      }
    },
    {
      "cell_type": "code",
      "source": [
        "%%shell\n",
        "jupyter nbconvert --to html 복사한 파일 경로"
      ],
      "metadata": {
        "id": "ojsvUmF5Kgx9"
      },
      "execution_count": null,
      "outputs": []
    }
  ]
}