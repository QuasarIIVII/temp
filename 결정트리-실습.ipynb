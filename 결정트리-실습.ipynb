{
 "cells": [
  {
   "cell_type": "code",
   "execution_count": 1,
   "metadata": {
    "id": "8qvOYO6pRCbr"
   },
   "outputs": [],
   "source": [
    "from sklearn.datasets import load_iris\n",
    "from sklearn.tree import DecisionTreeClassifier\n",
    "from sklearn.model_selection import train_test_split\n",
    "\n",
    "iris = load_iris()\n",
    "\n",
    "x = iris.data\n",
    "y = iris.target\n",
    "\n",
    "x_train, x_test, y_train, y_test = train_test_split(x, y, test_size = 0.3, random_state = 0)"
   ]
  },
  {
   "cell_type": "code",
   "execution_count": 2,
   "metadata": {
    "colab": {
     "base_uri": "https://localhost:8080/"
    },
    "id": "F-XPH3iaR5mg",
    "outputId": "d03d263d-0338-460f-9387-ad55229edb2c"
   },
   "outputs": [
    {
     "data": {
      "text/plain": [
       "DecisionTreeClassifier(max_depth=2)"
      ]
     },
     "execution_count": 2,
     "metadata": {},
     "output_type": "execute_result"
    }
   ],
   "source": [
    "dt = DecisionTreeClassifier(max_depth = 2)\n",
    "dt.fit(x_train, y_train)"
   ]
  },
  {
   "cell_type": "code",
   "execution_count": 3,
   "metadata": {
    "colab": {
     "base_uri": "https://localhost:8080/"
    },
    "id": "S5TjrIoESI5U",
    "outputId": "a652bcd0-5320-4460-eb7d-7eaeb074634b"
   },
   "outputs": [
    {
     "name": "stdout",
     "output_type": "stream",
     "text": [
      "[1]\n"
     ]
    }
   ],
   "source": [
    "print(dt.predict([[6.3, 2.3, 4.4, 1.3]]))"
   ]
  },
  {
   "cell_type": "code",
   "execution_count": 4,
   "metadata": {
    "colab": {
     "base_uri": "https://localhost:8080/"
    },
    "id": "yRtXZ5RDSPxo",
    "outputId": "b0d0f904-7b48-4866-fab0-6e864716a883"
   },
   "outputs": [
    {
     "name": "stdout",
     "output_type": "stream",
     "text": [
      "0.9111111111111111\n"
     ]
    }
   ],
   "source": [
    "print(dt.score(x_test, y_test))"
   ]
  },
  {
   "cell_type": "code",
   "execution_count": 5,
   "metadata": {
    "colab": {
     "base_uri": "https://localhost:8080/"
    },
    "id": "LP8NF3mSSUvz",
    "outputId": "71dfdb6b-1523-4e15-992d-15dc7e9b5551"
   },
   "outputs": [
    {
     "name": "stdout",
     "output_type": "stream",
     "text": [
      "의사 결정 트리의 깊이가 1 일 때 점수는 0.6\n",
      "의사 결정 트리의 깊이가 2 일 때 점수는 0.9111111111111111\n",
      "의사 결정 트리의 깊이가 3 일 때 점수는 0.9777777777777777\n",
      "의사 결정 트리의 깊이가 4 일 때 점수는 0.9777777777777777\n",
      "의사 결정 트리의 깊이가 5 일 때 점수는 0.9777777777777777\n",
      "의사 결정 트리의 깊이가 6 일 때 점수는 0.9777777777777777\n",
      "의사 결정 트리의 깊이가 7 일 때 점수는 0.9777777777777777\n",
      "의사 결정 트리의 깊이가 8 일 때 점수는 0.9777777777777777\n",
      "의사 결정 트리의 깊이가 9 일 때 점수는 0.9777777777777777\n"
     ]
    }
   ],
   "source": [
    "depth = []\n",
    "accuracy = []\n",
    "\n",
    "for d in range(1, 10):\n",
    "  dt = DecisionTreeClassifier(max_depth = d)\n",
    "  depth.append(d)\n",
    "  dt.fit(x_train, y_train)\n",
    "  accuracy.append(dt.score(x_test, y_test))\n",
    "\n",
    "for i in range(0, 9):\n",
    "  print('의사 결정 트리의 깊이가', depth[i],'일 때 점수는', accuracy[i])"
   ]
  }
 ],
 "metadata": {
  "colab": {
   "provenance": []
  },
  "kernelspec": {
   "display_name": "Python 3 (ipykernel)",
   "language": "python",
   "name": "python3"
  },
  "language_info": {
   "codemirror_mode": {
    "name": "ipython",
    "version": 3
   },
   "file_extension": ".py",
   "mimetype": "text/x-python",
   "name": "python",
   "nbconvert_exporter": "python",
   "pygments_lexer": "ipython3",
   "version": "3.9.7"
  }
 },
 "nbformat": 4,
 "nbformat_minor": 1
}
