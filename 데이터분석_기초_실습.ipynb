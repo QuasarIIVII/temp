{
 "cells": [
  {
   "cell_type": "markdown",
   "metadata": {
    "id": "uysixUXqPykY"
   },
   "source": [
    "# 한글 폰트 설정해주기\n",
    "\n",
    "#### 코랩에서 한글 폰트 설정\n",
    "1) 한글 폰트 지정 명령어 \n",
    "\n",
    "```\n",
    "plt.rc('font', family='NanumGothic')\n",
    "```\n",
    "\n"
   ]
  },
  {
   "cell_type": "code",
   "execution_count": null,
   "metadata": {
    "id": "gbH02KhmPw6_"
   },
   "outputs": [],
   "source": []
  },
  {
   "cell_type": "markdown",
   "metadata": {
    "id": "R032dHnvuLca"
   },
   "source": [
    "# 1. 파일 업로드 \n",
    "\n",
    "#### csv 파일이란? \n",
    "comma seperated values의 약자로\n",
    "콤마(,)로 분리된 파일"
   ]
  },
  {
   "cell_type": "markdown",
   "metadata": {
    "id": "856yefHCuK2D"
   },
   "source": [
    "### csv 파일을 파이썬으로 읽어오기 \n",
    "\n",
    "\n",
    "\n",
    "1.   파일 open\n",
    "2.   파일 읽기 reader\n",
    "3.   파일 헤더 건너뛰기\n",
    "4.   파일을 리스트로 바꾸기\n",
    "\n",
    "\n",
    "\n",
    "```\n",
    "# csv 라이브러리 임포트\n",
    "import csv \n",
    "\n",
    "f = open('파일명.csv')         # 파일 오픈\n",
    "data = csv.reader(f)         # 파일 읽기 reader\n",
    "next(data)                   # 파일 헤더 건너뛰기 \n",
    "data = list(data)            # 파일 리스트로 바꾸기\n",
    "```\n",
    "\n"
   ]
  },
  {
   "cell_type": "code",
   "execution_count": null,
   "metadata": {
    "id": "--E-FxMCuRlC"
   },
   "outputs": [],
   "source": []
  },
  {
   "cell_type": "code",
   "execution_count": null,
   "metadata": {
    "id": "q3t86Z5LuRm7"
   },
   "outputs": [],
   "source": []
  },
  {
   "cell_type": "code",
   "execution_count": null,
   "metadata": {
    "id": "AaAfV1s_qzOR"
   },
   "outputs": [],
   "source": [
    "# 총 데이터의 개수는?\n"
   ]
  },
  {
   "cell_type": "markdown",
   "metadata": {
    "id": "mCKJAnCsuO7z"
   },
   "source": [
    "# 2. 데이터 다뤄보기"
   ]
  },
  {
   "cell_type": "code",
   "execution_count": null,
   "metadata": {
    "id": "0SSz-ZSvuRrV"
   },
   "outputs": [],
   "source": [
    "# 카드이용일자 모두 출력하기\n"
   ]
  },
  {
   "cell_type": "code",
   "execution_count": null,
   "metadata": {
    "id": "RIz2XBOey6wh"
   },
   "outputs": [],
   "source": [
    "# 카드 사용금액 모두 출력하기\n"
   ]
  },
  {
   "cell_type": "code",
   "execution_count": null,
   "metadata": {
    "id": "JdHc9hvCy6y7"
   },
   "outputs": [],
   "source": [
    "# 카드 사용처와 금액 모두 출력하기\n"
   ]
  },
  {
   "cell_type": "code",
   "execution_count": null,
   "metadata": {
    "id": "NgwKIIVszjfN"
   },
   "outputs": [],
   "source": [
    "# 카드 사용처와 금액 모두 출력하기\n"
   ]
  },
  {
   "cell_type": "markdown",
   "metadata": {
    "id": "k2rdRhwfAkES"
   },
   "source": [
    "### 3개월간 사용한 총 금액\n",
    "\n",
    "```\n",
    "1. 총 지출액을 저장할 변수(spend)를 만들고 초깃값 0 저장하기\n",
    "2. 전체 이용내역(data)을 돌며 반복하기\n",
    "  2.1 이용금액(row[-3])만 골라 총 지출액(spend)에 더하기\n",
    "```\n",
    "\n"
   ]
  },
  {
   "cell_type": "code",
   "execution_count": null,
   "metadata": {
    "id": "XDbYFvliy61T"
   },
   "outputs": [],
   "source": []
  },
  {
   "cell_type": "markdown",
   "metadata": {
    "id": "sk_9v2hLyrNk"
   },
   "source": [
    "> 파일로 읽어들인 데이터는 모두 문자이다.  </br>\n",
    "> 따라서 연산하려면 숫자로 변경"
   ]
  },
  {
   "cell_type": "code",
   "execution_count": null,
   "metadata": {
    "id": "Oaq__8xwyu7P"
   },
   "outputs": [],
   "source": []
  },
  {
   "cell_type": "code",
   "execution_count": null,
   "metadata": {
    "id": "-A7grbYry7JZ"
   },
   "outputs": [],
   "source": []
  },
  {
   "cell_type": "markdown",
   "metadata": {
    "id": "eaU_IIKYFAi_"
   },
   "source": [
    "# 3. 데이터 분석!"
   ]
  },
  {
   "cell_type": "markdown",
   "metadata": {
    "id": "KKcsbWawz7_8"
   },
   "source": [
    "\n",
    "### 1) 10월, 11월, 12월 지출액을 막대그래프로 그리기\n"
   ]
  },
  {
   "cell_type": "code",
   "execution_count": null,
   "metadata": {
    "id": "DRJXI5T-2EPT"
   },
   "outputs": [],
   "source": []
  },
  {
   "cell_type": "code",
   "execution_count": null,
   "metadata": {
    "id": "nzbtTm8H2Io6"
   },
   "outputs": [],
   "source": []
  },
  {
   "cell_type": "code",
   "execution_count": null,
   "metadata": {
    "id": "t2ja02zPy7L7"
   },
   "outputs": [],
   "source": [
    "\n"
   ]
  },
  {
   "cell_type": "code",
   "execution_count": null,
   "metadata": {
    "id": "HTNFp2EZy7OD"
   },
   "outputs": [],
   "source": [
    "\n"
   ]
  },
  {
   "cell_type": "code",
   "execution_count": null,
   "metadata": {
    "id": "i2-cuPNs2y9d"
   },
   "outputs": [],
   "source": [
    "# 코드 줄이기\n",
    "\n"
   ]
  },
  {
   "cell_type": "code",
   "execution_count": null,
   "metadata": {
    "id": "VxmnUsvcy7Qq"
   },
   "outputs": [],
   "source": [
    "\n"
   ]
  },
  {
   "cell_type": "markdown",
   "metadata": {
    "id": "CJIzyZgU3nAD"
   },
   "source": [
    "### 2) 월별 택시 이용 금액 구하기"
   ]
  },
  {
   "cell_type": "markdown",
   "metadata": {
    "id": "s2wFwrVoCyaS"
   },
   "source": [
    "프로그램 흐름 생각해보기 \n",
    "\n",
    "\n",
    "```\n",
    "1. 10-12월의 월별 택시비 지출액을 저장할 리스트(taxi)를 만들고 각 월별 택시 지출액의 초깃값을 0으로 저장하기\n",
    "2. 전체 이용내역(data)를 돌며 반복하기\n",
    "  2.1 매입상태(row[-1])가 '전표매입'이고, 가맹점명에 '택시'가 있다면\n",
    "    2.1.1 해당 건의 이용월 구하고, 이용금액도 구하기\n",
    "    2.1.2 이용월에서 10을 빼서 taxi의 인덱스 구하기\n",
    "    2.1.3 taxi[인덱스] += 이용금액\n",
    "3. 월별 지출액 리스트로 막대그래프 그리기\n",
    "```\n",
    "\n"
   ]
  },
  {
   "cell_type": "code",
   "execution_count": null,
   "metadata": {
    "id": "NAKsjo--zCXX"
   },
   "outputs": [],
   "source": [
    "\n"
   ]
  },
  {
   "cell_type": "code",
   "execution_count": null,
   "metadata": {
    "id": "k9rWiM2y31QN"
   },
   "outputs": [],
   "source": [
    "# 코드 줄이기\n",
    "\n"
   ]
  },
  {
   "cell_type": "code",
   "execution_count": null,
   "metadata": {
    "id": "eC-54uUm31So"
   },
   "outputs": [],
   "source": [
    "\n"
   ]
  },
  {
   "cell_type": "markdown",
   "metadata": {
    "id": "9yQp40sX31ar"
   },
   "source": [
    "### 3) 월별 배달 이용 금액 구하기"
   ]
  },
  {
   "cell_type": "code",
   "execution_count": null,
   "metadata": {
    "id": "IU4xutnd31VM"
   },
   "outputs": [],
   "source": [
    "\n"
   ]
  },
  {
   "cell_type": "code",
   "execution_count": null,
   "metadata": {
    "id": "nIoEOuNJ31fz"
   },
   "outputs": [],
   "source": [
    "\n"
   ]
  },
  {
   "cell_type": "markdown",
   "metadata": {
    "id": "A2F6ROi_4Rix"
   },
   "source": [
    "### 4) 택시 지출액과 배달음식 지출액 비교하기\n",
    "\n",
    "```\n",
    "여러 그래프 한 번에 표시하기\n",
    "```"
   ]
  },
  {
   "cell_type": "code",
   "execution_count": null,
   "metadata": {
    "id": "tXcHIDs7-k9E"
   },
   "outputs": [],
   "source": [
    "\n"
   ]
  }
 ],
 "metadata": {
  "colab": {
   "authorship_tag": "ABX9TyN0yQd7hVNt+FQGKqgqU8dg",
   "collapsed_sections": [],
   "include_colab_link": true,
   "name": "9장-(실습용)-데이터분석 기초.ipynb",
   "provenance": []
  },
  "kernelspec": {
   "display_name": "Python 3 (ipykernel)",
   "language": "python",
   "name": "python3"
  },
  "language_info": {
   "codemirror_mode": {
    "name": "ipython",
    "version": 3
   },
   "file_extension": ".py",
   "mimetype": "text/x-python",
   "name": "python",
   "nbconvert_exporter": "python",
   "pygments_lexer": "ipython3",
   "version": "3.7.11"
  }
 },
 "nbformat": 4,
 "nbformat_minor": 1
}
