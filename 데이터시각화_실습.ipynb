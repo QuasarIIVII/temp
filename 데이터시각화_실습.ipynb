{
 "cells": [
  {
   "cell_type": "markdown",
   "metadata": {
    "id": "jCz-YaTWWfDS"
   },
   "source": [
    "# 1. matplotlib 라이브러리\n",
    "\n",
    "\n",
    "> 라이브러리는 다양한 명령어를 포함하고 있다. </br>\n",
    "> import 라이브러리명 as 닉네임</br>\n",
    "닉네임.명령어A()</br>\n",
    "닉네임.명령어B()</br>"
   ]
  },
  {
   "cell_type": "markdown",
   "metadata": {
    "id": "v7z3sy5wZZl1"
   },
   "source": [
    "매출그래프 그리기 \n",
    "\n",
    "```\n",
    "3-7월 매출\n",
    "\n",
    "3월 = 1\n",
    "4월 = 5\n",
    "5월 = 7\n",
    "6월 = 3\n",
    "7월 = 7\n",
    "```\n",
    "\n"
   ]
  },
  {
   "cell_type": "markdown",
   "metadata": {
    "id": "xoMzh3LR3xJo"
   },
   "source": [
    "### 선 그래프 그리기"
   ]
  },
  {
   "cell_type": "code",
   "execution_count": null,
   "metadata": {
    "id": "biyG6qVSTUnF"
   },
   "outputs": [],
   "source": []
  },
  {
   "cell_type": "code",
   "execution_count": null,
   "metadata": {
    "id": "Vehi9X7WuGG2"
   },
   "outputs": [],
   "source": []
  },
  {
   "cell_type": "code",
   "execution_count": null,
   "metadata": {
    "id": "NdQDSrMJuGLo"
   },
   "outputs": [],
   "source": []
  },
  {
   "cell_type": "markdown",
   "metadata": {
    "id": "RcA4Ybc8akoE"
   },
   "source": [
    "### x축 추가하기\n",
    "\n",
    "\n",
    "```\n",
    "plt.plot(x축, y축)\n",
    "plt.show()\n",
    "```\n",
    "\n"
   ]
  },
  {
   "cell_type": "code",
   "execution_count": null,
   "metadata": {
    "id": "xxcnexay1W15"
   },
   "outputs": [],
   "source": []
  },
  {
   "cell_type": "markdown",
   "metadata": {
    "id": "u4SN93z85O1E"
   },
   "source": [
    "# 2. 그래프 꾸미기"
   ]
  },
  {
   "cell_type": "markdown",
   "metadata": {
    "id": "phhY2mTxa-vI"
   },
   "source": [
    "### 그래프 제목 추가하기\n",
    "\n",
    "\n",
    "```\n",
    "plt.title('제목')\n",
    "plt.plot(x축, y축)\n",
    "plt.show()\n",
    "```\n",
    "\n"
   ]
  },
  {
   "cell_type": "code",
   "execution_count": null,
   "metadata": {
    "id": "4a2tllq2bHqv"
   },
   "outputs": [],
   "source": []
  },
  {
   "cell_type": "code",
   "execution_count": null,
   "metadata": {
    "id": "GIpv8hFY1Zd3"
   },
   "outputs": [],
   "source": []
  },
  {
   "cell_type": "markdown",
   "metadata": {
    "id": "A9LD5PW_12OW"
   },
   "source": [
    "### 한글 폰트 설정\n",
    "1) 글꼴 지정 명령어 \n",
    "\n",
    "```\n",
    "plt.rc('font', family='NanumGothic')\n",
    "```\n",
    "\n"
   ]
  },
  {
   "cell_type": "code",
   "execution_count": null,
   "metadata": {
    "id": "z_Sl3Cpo1Zgn"
   },
   "outputs": [],
   "source": [
    "# 한글 폰트 설정\n"
   ]
  },
  {
   "cell_type": "markdown",
   "metadata": {
    "id": "cA_CSdu21PLc"
   },
   "source": [
    "런타임을 재실행했으므로 변수를 다시 만들어주고, 라이브러리를 다시 import 해야 함\n",
    "\n",
    "\n",
    "```\n",
    "import matplotlib.pyplot as plt\n",
    "\n",
    "mon = ['mar','apr','may','jun','jul']\n",
    "sales = [1,5,7,3,7]\n",
    "\n",
    "# 한글 폰트 설정\n",
    "\n",
    "plt.title('월별 판매 실적')\n",
    "plt.plot(mon, sales)\n",
    "plt.show()\n",
    "```\n",
    "\n"
   ]
  },
  {
   "cell_type": "code",
   "execution_count": null,
   "metadata": {
    "id": "CK5BxVMS1W4e"
   },
   "outputs": [],
   "source": []
  },
  {
   "cell_type": "markdown",
   "metadata": {
    "id": "wqsdr57tbizJ"
   },
   "source": [
    "### 그래프 색상 변경\n",
    "\n",
    "\n",
    "```\n",
    "# 그래프 그리는 명령어에 color 옵션 추가\n",
    "plt.plot(x축, y축, color = 'r')\n",
    "```\n",
    "\n"
   ]
  },
  {
   "cell_type": "code",
   "execution_count": null,
   "metadata": {
    "id": "X5oiodjF1W7N"
   },
   "outputs": [],
   "source": [
    "plt.rc('font', family='NanumGothic')\n",
    "plt.title('월별 판매 실적')\n",
    "# 그래프 색상 변경\n",
    "plt.plot(mon, sales, color ='r')\n",
    "plt.show()"
   ]
  },
  {
   "cell_type": "markdown",
   "metadata": {
    "id": "R3AjOkBIb8ni"
   },
   "source": [
    "### 해상도 설정 : 그래프를 선명하게 \n",
    "\n",
    "```\n",
    "plt.figure(dpi=해상도)\n",
    "plt.title('제목')\n",
    "plt.plot(x축, y축, color = '')\n",
    "plt.show()\n",
    "```\n"
   ]
  },
  {
   "cell_type": "code",
   "execution_count": null,
   "metadata": {
    "id": "SecipY6Q3R1k"
   },
   "outputs": [],
   "source": [
    "# 해상도 설정  \n",
    "\n"
   ]
  },
  {
   "cell_type": "markdown",
   "metadata": {
    "id": "JMWi-VCudaDM"
   },
   "source": [
    "### 범례 나타내기 \n",
    "\n",
    "\n",
    "```\n",
    "plt.plot(x축, y축, label = '범례 내용')\n",
    "plt.legend()      # 범례를 화면에 나타내기\n",
    "plt.show()\n",
    "```\n",
    "\n"
   ]
  },
  {
   "cell_type": "code",
   "execution_count": null,
   "metadata": {
    "id": "svj84rbv3R4O"
   },
   "outputs": [],
   "source": []
  },
  {
   "cell_type": "markdown",
   "metadata": {
    "id": "eZjmElRi2y4T"
   },
   "source": [
    "## 그래프 그리는 포맷\n",
    "\n",
    "\n",
    "```\n",
    "import matplotlib.pyplot as plt\n",
    "\n",
    "plt.title('그래프 제목')\n",
    "plt.plot(x축 데이터, y축 데이터)\n",
    "plt.show()\n",
    "```\n",
    "\n",
    "그래프 명령어 plt.plot()에 사용가능한 옵션\n",
    "\n",
    "```\n",
    "color = '색상이름'             \n",
    "label = '범례내용'\n",
    "```\n",
    "\n",
    "기타 사용가능한 명령어\n",
    "```\n",
    "plt.figure(dpi=150)     # 그래프 해상도 설정 \n",
    "plt.legend()            # 범례 나타내기\n",
    "```\n",
    "\n",
    "\n",
    "\n",
    "\n",
    "\n"
   ]
  },
  {
   "cell_type": "markdown",
   "metadata": {
    "id": "oHuXRLzd34dm"
   },
   "source": [
    "# 3. 다양한 그래프\n",
    "### plt.bar() : 막대그래프 - 세로형"
   ]
  },
  {
   "cell_type": "code",
   "execution_count": null,
   "metadata": {
    "id": "WYPB2D8T9Unu"
   },
   "outputs": [],
   "source": []
  },
  {
   "cell_type": "code",
   "execution_count": null,
   "metadata": {
    "id": "1JsxUnGv6h-V"
   },
   "outputs": [],
   "source": []
  },
  {
   "cell_type": "markdown",
   "metadata": {
    "id": "uIJ-1Ky3e1MD"
   },
   "source": [
    "plt.bar()는 x축 리스트, y축 리스트 두 개 모두 넣어야 한다."
   ]
  },
  {
   "cell_type": "markdown",
   "metadata": {
    "id": "L61iZcYz9YFw"
   },
   "source": [
    "### range() 사용하기"
   ]
  },
  {
   "cell_type": "code",
   "execution_count": null,
   "metadata": {
    "id": "4cUyKl6d2UjY"
   },
   "outputs": [],
   "source": []
  },
  {
   "cell_type": "markdown",
   "metadata": {
    "id": "1sgMxpnN9fHb"
   },
   "source": [
    "### range(시작숫자, 종료숫자, 간격)\n",
    "\n",
    "시작숫자부터 종료숫자까지 간격을 두어 숫자를 선택함 <br/>\n",
    "\n",
    "\n",
    "```\n",
    "range(2, 11, 2) \n",
    "```\n",
    "2부터 11까지 간격 2를 두고 숫자 선택\n",
    "-> 2, 4, 6, 8, 10 "
   ]
  },
  {
   "cell_type": "code",
   "execution_count": null,
   "metadata": {
    "id": "QXX5VB4G9fUG"
   },
   "outputs": [],
   "source": []
  },
  {
   "cell_type": "markdown",
   "metadata": {
    "id": "_q8F5leMfFmr"
   },
   "source": [
    "### plt.barh() : 막대그래프 - 가로형"
   ]
  },
  {
   "cell_type": "code",
   "execution_count": null,
   "metadata": {
    "id": "qPXXo7Jr2Ulf"
   },
   "outputs": [],
   "source": []
  },
  {
   "cell_type": "markdown",
   "metadata": {
    "id": "TJAcLdaFfLZs"
   },
   "source": [
    "### plt.hist() : 히스토그램 \n"
   ]
  },
  {
   "cell_type": "code",
   "execution_count": null,
   "metadata": {
    "id": "toqwyoVFgG1C"
   },
   "outputs": [],
   "source": []
  },
  {
   "cell_type": "code",
   "execution_count": null,
   "metadata": {
    "id": "AqFlGEnV2UqC"
   },
   "outputs": [],
   "source": []
  },
  {
   "cell_type": "markdown",
   "metadata": {
    "id": "LSpOVeAcgJ0e"
   },
   "source": [
    "### plt.pie() : 원그래프 \n",
    "\n",
    "\n",
    "```\n",
    "우리학교 100명의 혈액형을 조사한 결과가 다음과 같다.\n",
    "\n",
    "A형 = 28명\n",
    "B형 = 20명\n",
    "O형 = 40명\n",
    "AB형 = 12명 \n",
    "```\n",
    "\n"
   ]
  },
  {
   "cell_type": "code",
   "execution_count": null,
   "metadata": {
    "id": "SAVRJcNY2T3j"
   },
   "outputs": [],
   "source": []
  },
  {
   "cell_type": "markdown",
   "metadata": {
    "id": "-_S46po_hylb"
   },
   "source": [
    "#### 원그래프 각 항목에 라벨 붙이기 \n",
    "\n",
    "\n",
    "```\n",
    "plt.pie(리스트, labels = 라벨리스트)\n",
    "```\n",
    "\n"
   ]
  },
  {
   "cell_type": "code",
   "execution_count": null,
   "metadata": {
    "id": "ra2EFVAt1W9k"
   },
   "outputs": [],
   "source": []
  },
  {
   "cell_type": "markdown",
   "metadata": {
    "id": "tInYOLqBiA20"
   },
   "source": [
    "#### 원그래프 항목에 퍼센트 표시\n",
    "\n",
    "```\n",
    "plt.pie(리스트, labels = 라벨리스트, autopct = '%1.1f%%')\n",
    "```\n",
    "\n"
   ]
  },
  {
   "cell_type": "code",
   "execution_count": null,
   "metadata": {
    "id": "B9NuAQi4uGOR"
   },
   "outputs": [],
   "source": []
  },
  {
   "cell_type": "markdown",
   "metadata": {
    "id": "wNPD_4QmiK3S"
   },
   "source": [
    "### plt.scatter() : 산점도 \n",
    "\n",
    "> 국어를 잘하는 친구가 영어도 잘할까?\n",
    "\n",
    "\n",
    "```\n",
    "국어점수와 영어점수의 상관관계 알아보기\n",
    "\n",
    "kor =[80, 20, 50, 20, 10, 50, 60, 30, 60]\n",
    "eng =[90, 40, 60, 40, 10, 30, 50, 70, 90]\n",
    "```\n"
   ]
  },
  {
   "cell_type": "code",
   "execution_count": null,
   "metadata": {
    "id": "7M2BWKdu49qw"
   },
   "outputs": [],
   "source": []
  },
  {
   "cell_type": "markdown",
   "metadata": {
    "id": "UW5kHmlPi4SM"
   },
   "source": [
    "### 그래프 꾸미기 : x축 이름, y축 이름 붙이기\n",
    "\n",
    "\n",
    "```\n",
    "plt.xlabel('x축 이름')\n",
    "plt.ylabel('y축 이름')\n",
    "```\n",
    "\n"
   ]
  },
  {
   "cell_type": "code",
   "execution_count": null,
   "metadata": {
    "id": "o8txxthe5IKJ"
   },
   "outputs": [],
   "source": []
  },
  {
   "cell_type": "markdown",
   "metadata": {
    "id": "RXK9-hoI5IQM"
   },
   "source": [
    "# 그래프 명령어 정리 \n",
    "**그래프 그리는 포맷**\n",
    "```\n",
    "import matplotlib.pyplot as plt\n",
    "\n",
    "plt.title('그래프 제목')\n",
    "# --- 그래프 형태에 따라 알맞은 명령어 넣기 ---\n",
    "plt.show()\n",
    "```\n",
    "    \n",
    "\n",
    "**그래프 유형별 명령어**\n",
    "```\n",
    "# ---- 그래프 유형별 명령어\n",
    "# 꺾은선그래프\n",
    "plt.plot([x축 리스트], [y축 리스트])\n",
    "\n",
    "# 막대그래프 세로\n",
    "plt.bar([x축 리스트], [y축 리스트])\n",
    "\n",
    "# 막대그래프 가로\n",
    "plt.barh([x축 리스트], [y축 리스트])\n",
    "\n",
    "# 히스토그램 (x축, y축을 구분하지 않고 하나의 리스트만 넣음)\n",
    "plt.hist( [리스트], bins = 구간개수 )\n",
    "\n",
    "# 원 그래프 (x축, y축을 구분하지 않고 하나의 리스트만 넣음)\n",
    "plt.pie( [리스트], labels = [데이터 구간 이름])\n",
    "\n",
    "# 산점도\n",
    "plt.scatter([x축 리스트], [y축 리스트])\n",
    "```\n",
    "\n",
    "**그래프 명령어 내에 추가 가능한 옵션**\n",
    "\n",
    "```\n",
    "color = '색상이름' \n",
    "alpha = 투명도\n",
    "\n",
    "# plt.plot(), plt.bar(), plt.barh(), plt.scatter()는 label 사용\n",
    "label = '범례내용'\n",
    "\n",
    "# plt.pie(), plt.boxplot()은 labels 사용\n",
    "labels = [범례 리스트]\n",
    "\n",
    "# plt.pie()에 퍼센트 자동 표시\n",
    "autopct = ‘%1.1%%’\n",
    "```\n",
    "\n",
    "**기타 사용가능한 명령어**\n",
    "\n",
    "\n",
    "```\n",
    "plt.legend()            # 범례 나타내기\n",
    "plt.xlabel()            # x축 이름 붙이기\n",
    "plt.ylabel()            # y축 이름 붙이기\n",
    "```\n",
    "\n",
    "\n",
    "\n"
   ]
  }
 ],
 "metadata": {
  "colab": {
   "authorship_tag": "ABX9TyPVDH2g+fkzB0s1ynYPvjv2",
   "collapsed_sections": [],
   "include_colab_link": true,
   "name": "8장-(실습용)-데이터시각화.ipynb",
   "provenance": []
  },
  "kernelspec": {
   "display_name": "Python 3 (ipykernel)",
   "language": "python",
   "name": "python3"
  },
  "language_info": {
   "codemirror_mode": {
    "name": "ipython",
    "version": 3
   },
   "file_extension": ".py",
   "mimetype": "text/x-python",
   "name": "python",
   "nbconvert_exporter": "python",
   "pygments_lexer": "ipython3",
   "version": "3.7.11"
  }
 },
 "nbformat": 4,
 "nbformat_minor": 1
}
