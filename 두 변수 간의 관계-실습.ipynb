{
 "cells": [
  {
   "cell_type": "markdown",
   "metadata": {
    "id": "hCsnnQIAhTnW"
   },
   "source": [
    "## 데이터 분석과 예측- 상관관계\n"
   ]
  },
  {
   "cell_type": "markdown",
   "metadata": {
    "id": "fjzllZHpxr8n"
   },
   "source": [
    "- 관계의 시각화\n",
    "<br>\n",
    "서로 다른 두 변수 간의 관계를 살펴보기 위해 2019년도 3월 대구광역시의 일조 시간과 평균 전운량에 대한 CSV 파일을 이용해 보자.\n",
    "<br>"
   ]
  },
  {
   "cell_type": "markdown",
   "metadata": {
    "id": "ARunqyOdyjbR"
   },
   "source": [
    "### 산점도 표현하기\n"
   ]
  },
  {
   "cell_type": "markdown",
   "metadata": {
    "id": "sZckRWOEotkf"
   },
   "source": [
    "[설명]\n",
    "\n",
    "- 2019년도 3월 대구광역시의 일조 시간과 평균 전운량의 산점도를 x축은 평균 전운량, y축은 합계 일조 시간으로 설정하여 표현해 보자. "
   ]
  },
  {
   "cell_type": "markdown",
   "metadata": {
    "id": "oYbUaiWbqQRo"
   },
   "source": [
    "2019년도 3월 대구광역시의 일조 시간과 평균 전운량"
   ]
  },
  {
   "cell_type": "code",
   "execution_count": 1,
   "metadata": {
    "colab": {
     "base_uri": "https://localhost:8080/"
    },
    "id": "8plh1n0XoVD4",
    "outputId": "d248767d-9f28-4b24-eb9a-4a560d1cc873"
   },
   "outputs": [
    {
     "name": "stdout",
     "output_type": "stream",
     "text": [
      "     지점          일시  합계 일조 시간(hr)  평균 전운량(1/10)\n",
      "0   143  2019-03-01           9.9           0.9\n",
      "1   143  2019-03-02           8.1           5.6\n",
      "2   143  2019-03-03           4.5           8.9\n",
      "3   143  2019-03-04           9.0           3.9\n",
      "4   143  2019-03-05           5.0           4.5\n",
      "5   143  2019-03-06           3.8           8.0\n",
      "6   143  2019-03-07           4.7           4.8\n",
      "7   143  2019-03-08          10.4           0.0\n",
      "8   143  2019-03-09           9.3           6.5\n",
      "9   143  2019-03-10           0.0           8.8\n",
      "10  143  2019-03-11           5.7           6.1\n",
      "11  143  2019-03-12           8.0           4.0\n",
      "12  143  2019-03-13           9.2           1.6\n",
      "13  143  2019-03-14          10.0           2.5\n",
      "14  143  2019-03-15           5.2           8.0\n",
      "15  143  2019-03-16          10.6           1.9\n",
      "16  143  2019-03-17          11.3           1.5\n",
      "17  143  2019-03-18           7.8           7.5\n",
      "18  143  2019-03-19          10.4           1.6\n",
      "19  143  2019-03-20           0.0           8.9\n",
      "20  143  2019-03-21           7.0           7.6\n",
      "21  143  2019-03-22           9.3           5.3\n",
      "22  143  2019-03-23           8.2           3.9\n",
      "23  143  2019-03-24          11.7           0.3\n",
      "24  143  2019-03-25           9.4           5.3\n",
      "25  143  2019-03-26          10.8           0.0\n",
      "26  143  2019-03-27           9.2           3.8\n",
      "27  143  2019-03-28           8.6           6.8\n",
      "28  143  2019-03-29           6.1           7.0\n",
      "29  143  2019-03-30           6.6           6.9\n",
      "30  143  2019-03-31           6.0           5.0\n"
     ]
    }
   ],
   "source": [
    "import pandas as pd\n",
    "import matplotlib.pyplot as plt\n",
    "df = pd.read_csv('2019_03_Daegu_Sunshine_Cloudiness.csv', encoding ='cp949')\n",
    "print()\n"
   ]
  },
  {
   "cell_type": "code",
   "execution_count": 2,
   "metadata": {
    "colab": {
     "base_uri": "https://localhost:8080/"
    },
    "id": "9BES44eg0GM4",
    "outputId": "344c943b-7018-4ab6-f999-bb154984afa1"
   },
   "outputs": [
    {
     "name": "stdout",
     "output_type": "stream",
     "text": [
      "0      9.9\n",
      "1      8.1\n",
      "2      4.5\n",
      "3      9.0\n",
      "4      5.0\n",
      "5      3.8\n",
      "6      4.7\n",
      "7     10.4\n",
      "8      9.3\n",
      "9      0.0\n",
      "10     5.7\n",
      "11     8.0\n",
      "12     9.2\n",
      "13    10.0\n",
      "14     5.2\n",
      "15    10.6\n",
      "16    11.3\n",
      "17     7.8\n",
      "18    10.4\n",
      "19     0.0\n",
      "20     7.0\n",
      "21     9.3\n",
      "22     8.2\n",
      "23    11.7\n",
      "24     9.4\n",
      "25    10.8\n",
      "26     9.2\n",
      "27     8.6\n",
      "28     6.1\n",
      "29     6.6\n",
      "30     6.0\n",
      "Name: 합계 일조 시간(hr), dtype: float64\n"
     ]
    }
   ],
   "source": [
    "print(df[])"
   ]
  },
  {
   "cell_type": "code",
   "execution_count": 3,
   "metadata": {
    "colab": {
     "base_uri": "https://localhost:8080/",
     "height": 338
    },
    "id": "kIYbw1lKzvp5",
    "outputId": "44c98fd5-877c-4a8a-9766-6fe88c83b9b4"
   },
   "outputs": [
    {
     "data": {
      "text/plain": [
       "(array([2., 0., 0., 2., 4., 4., 3., 7., 5., 4.]),\n",
       " array([ 0.  ,  1.17,  2.34,  3.51,  4.68,  5.85,  7.02,  8.19,  9.36,\n",
       "        10.53, 11.7 ]),\n",
       " <BarContainer object of 10 artists>)"
      ]
     },
     "execution_count": 3,
     "metadata": {},
     "output_type": "execute_result"
    },
    {
     "data": {
      "image/png": "[encoded data removed]",
      "text/plain": [
       "<Figure size 432x288 with 1 Axes>"
      ]
     },
     "metadata": {
      "needs_background": "light"
     },
     "output_type": "display_data"
    }
   ],
   "source": [
    "plt.hist(df[])"
   ]
  },
  {
   "cell_type": "code",
   "execution_count": 4,
   "metadata": {
    "colab": {
     "base_uri": "https://localhost:8080/",
     "height": 283
    },
    "id": "ButFDjYSxtMJ",
    "outputId": "a8a6510f-2be3-4630-ea2e-d5bbaed0dd00"
   },
   "outputs": [
    {
     "data": {
      "text/plain": [
       "<matplotlib.collections.PathCollection at 0x27caf7b5988>"
      ]
     },
     "execution_count": 4,
     "metadata": {},
     "output_type": "execute_result"
    },
    {
     "data": {
      "image/png": "[encoded data removed]",
      "text/plain": [
       "<Figure size 432x288 with 1 Axes>"
      ]
     },
     "metadata": {
      "needs_background": "light"
     },
     "output_type": "display_data"
    }
   ],
   "source": [
    "import pandas as pd\n",
    "import matplotlib.pyplot as plt\n",
    "plt.scatter(df[], df['합계 일조 시간(hr)'])   #전운량"
   ]
  },
  {
   "cell_type": "markdown",
   "metadata": {
    "id": "flHQ7gUT1ObX"
   },
   "source": [
    "데이터의 산점도를 보면 평균 전운량이 많은 날일수록 일조 시간은 짧아지는 경향을 확인할 수 있다. 사실 구름의 양과 해가 비추는 시간이 밀접한 관련이 있음은, 굳이 데이터를 확인하지 않더라도 어느 정도 짐작할 수 있다.\n",
    "<br>\n",
    "1) 구름이나 안개 또는 건물 등에 가려지지 않고 실제로 태양이 비추는 시간.\n",
    "2) 하늘 전체에 대해 구름이 덮은 양. 운량 10은 하늘 전체가 구름으로 덮인 상태이며 0은 구름이 전혀 없는 상태이다."
   ]
  },
  {
   "cell_type": "code",
   "execution_count": 5,
   "metadata": {
    "colab": {
     "base_uri": "https://localhost:8080/"
    },
    "id": "CSpjReWlx4hl",
    "outputId": "d5733697-bf31-4682-bd99-1da1423b8489"
   },
   "outputs": [
    {
     "data": {
      "text/plain": [
       "4.754838709677419"
      ]
     },
     "execution_count": 5,
     "metadata": {},
     "output_type": "execute_result"
    }
   ],
   "source": [
    "df['평균 전운량(1/10)'].() #평균 전운량 전체에 대한 평균"
   ]
  },
  {
   "cell_type": "markdown",
   "metadata": {
    "id": "Tc6039Lkv1Gb"
   },
   "source": [
    "[스스로 해보기]<br>\n",
    "대구광역시 주민등록인구 통계현황 공공데이터를 사용하여 인구 총계 남자(총계 남)\n",
    "와 여자(총계 여)라는 두 변수 간의 관련성을 산점도로 표현해 보고, 남자와 여자 인구의 관련성에 대해 생각해 보자.\n",
    "\n",
    "<br> 예제파일 : population_2019.csv"
   ]
  },
  {
   "cell_type": "code",
   "execution_count": 6,
   "metadata": {
    "colab": {
     "base_uri": "https://localhost:8080/",
     "height": 538
    },
    "id": "RUtGp_hd7-3P",
    "outputId": "692e025e-3672-478f-b14e-936b7b9e8a4c"
   },
   "outputs": [
    {
     "name": "stdout",
     "output_type": "stream",
     "text": [
      "        행정구역     총계   총계 남  총계 여  중구 계   중구 남  중구 여  동구 계   동구 남  동구 여  ...  \\\n",
      "0         0세  13409   6870  6539    471   246   225   2090  1044  1046  ...   \n",
      "1         1세  15750   8064  7686    528   272   256   2485  1303  1182  ...   \n",
      "2         2세  17883   9197  8686    619   313   306   2732  1406  1326  ...   \n",
      "3         3세  19824  10147  9677    616   316   300   2989  1514  1475  ...   \n",
      "4         4세  20239  10305  9934    608   292   316   3085  1596  1489  ...   \n",
      "..       ...    ...    ...   ...    ...   ...   ...    ...   ...   ...  ...   \n",
      "96       96세    413     88   325     26     5    21     60    11    49  ...   \n",
      "97       97세    285     50   235     17     1    16     58     8    50  ...   \n",
      "98       98세    181     38   143     18     6    12     29    12    17  ...   \n",
      "99       99세    145     24   121     13     4     9     28     6    22  ...   \n",
      "100  100세 이상    650    155   495     87    16    71    115    28    87  ...   \n",
      "\n",
      "     북구 여  수성구 계   수성구 남  수성구 여  달서구 계  달서구 남  달서구 여  달성군 계  달성군 남  달성군 여  \n",
      "0    1238    1605    844    761   2840   1443   1397   2689   1362   1327  \n",
      "1    1490    2046   1032   1014   3425   1827   1598   2934   1468   1466  \n",
      "2    1672    2405   1243   1162   3925   2082   1843   3238   1641   1597  \n",
      "3    1835    2929   1530   1399   4509   2309   2200   3308   1643   1665  \n",
      "4    1819    3064   1542   1522   4772   2423   2349   3275   1650   1625  \n",
      "..    ...     ...    ...    ...    ...    ...    ...    ...    ...    ...  \n",
      "96     66      68     21     47     70     14     56     37      8     29  \n",
      "97     31      58     10     48     52      8     44     16      5     11  \n",
      "98     29      28      2     26     22      6     16     13      1     12  \n",
      "99     22      25      5     20     15      4     11      9      0      9  \n",
      "100    56      93     26     67     82     16     66     26      8     18  \n",
      "\n",
      "[101 rows x 28 columns]\n"
     ]
    },
    {
     "data": {
      "text/plain": [
       "<matplotlib.collections.PathCollection at 0x27caf8510c8>"
      ]
     },
     "execution_count": 6,
     "metadata": {},
     "output_type": "execute_result"
    },
    {
     "data": {
      "image/png": "[encoded data removed]",
      "text/plain": [
       "<Figure size 432x288 with 1 Axes>"
      ]
     },
     "metadata": {
      "needs_background": "light"
     },
     "output_type": "display_data"
    }
   ],
   "source": [
    "import pandas as pd\n",
    "import matplotlib.pyplot as plt\n",
    "df = pd.read_csv('population_2019.csv', encoding = \"cp949\")\n",
    "print(df)\n",
    "plt.scatter(df['총계 남'], df['총계 여'])"
   ]
  },
  {
   "cell_type": "markdown",
   "metadata": {
    "id": "xcf0zXRcDEUd"
   },
   "source": [
    "남자와 여자의 인구는 서로 양의 관련성을 가진다고 말할 수 있다. \n",
    "\n",
    "---\n",
    "\n"
   ]
  },
  {
   "cell_type": "markdown",
   "metadata": {
    "id": "Y2AUOsOJ8G31"
   },
   "source": [
    "##상관관계와 상관계수"
   ]
  },
  {
   "cell_type": "markdown",
   "metadata": {
    "id": "It9MZgatwTQx"
   },
   "source": [
    "상관관계란 한 변수의 변화에 따른 다른 변수의 변화 정도와 방향을 측정하는 분석 기\n",
    "법이다. 한 변수가 커질 때 다른 변수도 같이 커진다면 양의 상관관계를 가지고 있다고 표현하며, 반대로 한 변수가 커질 때 다른 변수가 작아지면 음의 상관관계를 가지고 있다고 표현한다.\n",
    "<br><br>\n",
    "상관계수는 변수 사이의 관계 정도와 방향을 하나의 수치로 요약해 주는 통계치이고 -1에서 1사이의 값을 가진다.\n"
   ]
  },
  {
   "cell_type": "markdown",
   "metadata": {
    "id": "CRkaAWxkHfRg"
   },
   "source": [
    "\n",
    "\n",
    "---\n",
    "\n",
    "이 외에도 데이터의 값 대신 값의 순위를 이용하는 스피어만(Spearman) 상관계수와 켄들(Kendall) 상관계수가 있으며, 데이터를 작은 것부터 차례로 순위를 매겨 서열 순서로 바꾼 뒤 순위를 이용하여 상관계수를 구한다."
   ]
  },
  {
   "cell_type": "markdown",
   "metadata": {
    "id": "7sxkgrlJ0TQE"
   },
   "source": [
    "### 피어슨 상관계수"
   ]
  },
  {
   "cell_type": "markdown",
   "metadata": {
    "id": "RFr2jt6g27Ow"
   },
   "source": [
    "두 변수 사이의 관계를 1차 함수, 즉 선형관계로 설명하는 계수\n",
    "<br>\n",
    "corr메서드는 각 열 간의 상관 계수를 반환하는 메서드입니다."
   ]
  },
  {
   "cell_type": "markdown",
   "metadata": {
    "id": "nPwmpAVv3YCZ"
   },
   "source": [
    "[실습]<br>\n",
    "두 변수 간의 상관관계 구하기"
   ]
  },
  {
   "cell_type": "code",
   "execution_count": 7,
   "metadata": {
    "colab": {
     "base_uri": "https://localhost:8080/"
    },
    "id": "pT9A7a1NIRow",
    "outputId": "60fd436f-2218-49f2-9f73-755ca818614a"
   },
   "outputs": [
    {
     "name": "stdout",
     "output_type": "stream",
     "text": [
      "     지점          일시  합계 일조 시간(hr)  평균 전운량(1/10)\n",
      "0   143  2019-03-01           9.9           0.9\n",
      "1   143  2019-03-02           8.1           5.6\n",
      "2   143  2019-03-03           4.5           8.9\n",
      "3   143  2019-03-04           9.0           3.9\n",
      "4   143  2019-03-05           5.0           4.5\n",
      "5   143  2019-03-06           3.8           8.0\n",
      "6   143  2019-03-07           4.7           4.8\n",
      "7   143  2019-03-08          10.4           0.0\n",
      "8   143  2019-03-09           9.3           6.5\n",
      "9   143  2019-03-10           0.0           8.8\n",
      "10  143  2019-03-11           5.7           6.1\n",
      "11  143  2019-03-12           8.0           4.0\n",
      "12  143  2019-03-13           9.2           1.6\n",
      "13  143  2019-03-14          10.0           2.5\n",
      "14  143  2019-03-15           5.2           8.0\n",
      "15  143  2019-03-16          10.6           1.9\n",
      "16  143  2019-03-17          11.3           1.5\n",
      "17  143  2019-03-18           7.8           7.5\n",
      "18  143  2019-03-19          10.4           1.6\n",
      "19  143  2019-03-20           0.0           8.9\n",
      "20  143  2019-03-21           7.0           7.6\n",
      "21  143  2019-03-22           9.3           5.3\n",
      "22  143  2019-03-23           8.2           3.9\n",
      "23  143  2019-03-24          11.7           0.3\n",
      "24  143  2019-03-25           9.4           5.3\n",
      "25  143  2019-03-26          10.8           0.0\n",
      "26  143  2019-03-27           9.2           3.8\n",
      "27  143  2019-03-28           8.6           6.8\n",
      "28  143  2019-03-29           6.1           7.0\n",
      "29  143  2019-03-30           6.6           6.9\n",
      "30  143  2019-03-31           6.0           5.0\n"
     ]
    }
   ],
   "source": [
    "import pandas as pd\n",
    "df = pd.read_csv('2019_03_Daegu_Sunshine_Cloudiness.csv', encoding ='cp949')\n",
    "print(df)"
   ]
  },
  {
   "cell_type": "code",
   "execution_count": 8,
   "metadata": {
    "colab": {
     "base_uri": "https://localhost:8080/"
    },
    "id": "PCy6F_595XfM",
    "outputId": "927fc97f-9464-4033-e75d-faf623df1c5f"
   },
   "outputs": [
    {
     "name": "stdout",
     "output_type": "stream",
     "text": [
      "피어슨 상관계수 : -0.7876136446325478\n"
     ]
    }
   ],
   "source": [
    "print(\"피어슨 상관계수 :\", df['평균 전운량(1/10)'].)"
   ]
  },
  {
   "cell_type": "code",
   "execution_count": 9,
   "metadata": {
    "colab": {
     "base_uri": "https://localhost:8080/"
    },
    "id": "tzazCJ8g898e",
    "outputId": "4f4a5461-b562-426e-dcc0-f5ffaeef2e86"
   },
   "outputs": [
    {
     "name": "stdout",
     "output_type": "stream",
     "text": [
      "피어슨 상관계수 : -0.7876136446325478\n",
      "스피어만 상관계수 : -0.8190716614835573\n",
      "켄들 상관계수 : -0.6543493722829523\n"
     ]
    }
   ],
   "source": [
    "print(\"피어슨 상관계수 :\", df['평균 전운량(1/10)'].corr(df['합계 일조 시간(hr)'], method=\"pearson\"))\n",
    "print(\"스피어만 상관계수 :\", df['평균 전운량(1/10)'].corr(df['합계 일조 시간(hr)'], method=\"spearman\"))\n",
    "print(\"켄들 상관계수 :\", df['평균 전운량(1/10)'].corr(df['합계 일조 시간(hr)'], method=\"kendall\"))"
   ]
  }
 ],
 "metadata": {
  "colab": {
   "collapsed_sections": [],
   "name": "2단원_2_데이터_분석과_예측_02_상관관계.ipynb",
   "provenance": []
  },
  "kernelspec": {
   "display_name": "Python 3 (ipykernel)",
   "language": "python",
   "name": "python3"
  },
  "language_info": {
   "codemirror_mode": {
    "name": "ipython",
    "version": 3
   },
   "file_extension": ".py",
   "mimetype": "text/x-python",
   "name": "python",
   "nbconvert_exporter": "python",
   "pygments_lexer": "ipython3",
   "version": "3.7.11"
  }
 },
 "nbformat": 4,
 "nbformat_minor": 1
}
