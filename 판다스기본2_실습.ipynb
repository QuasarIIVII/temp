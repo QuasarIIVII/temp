{
 "cells": [
  {
   "cell_type": "raw",
   "metadata": {},
   "source": [
    "판다스"
   ]
  },
  {
   "cell_type": "code",
   "execution_count": 1,
   "metadata": {
    "id": "7QTAsu2mfi7z"
   },
   "outputs": [],
   "source": [
    "import pandas as pd"
   ]
  },
  {
   "cell_type": "code",
   "execution_count": 2,
   "metadata": {
    "colab": {
     "base_uri": "https://localhost:8080/"
    },
    "executionInfo": {
     "elapsed": 34,
     "status": "ok",
     "timestamp": 1654577220340,
     "user": {
      "displayName": "황성훈",
      "userId": "12326129479455956294"
     },
     "user_tz": -540
    },
    "id": "nmHBOtaFgQTA",
    "outputId": "5d88732b-5c3a-4425-c318-b43c743e5521",
    "scrolled": true
   },
   "outputs": [
    {
     "data": {
      "text/plain": [
       "0    10\n",
       "1    20\n",
       "2    30\n",
       "3    40\n",
       "dtype: int64"
      ]
     },
     "execution_count": 2,
     "metadata": {},
     "output_type": "execute_result"
    }
   ],
   "source": [
    "sr = pd.Series()\n",
    "sr"
   ]
  },
  {
   "cell_type": "code",
   "execution_count": 3,
   "metadata": {
    "colab": {
     "base_uri": "https://localhost:8080/"
    },
    "executionInfo": {
     "elapsed": 33,
     "status": "ok",
     "timestamp": 1654577220341,
     "user": {
      "displayName": "황성훈",
      "userId": "12326129479455956294"
     },
     "user_tz": -540
    },
    "id": "mLj6fLrogaBF",
    "outputId": "7349d0e6-3419-4051-fdb5-5ba9afb0cbd9"
   },
   "outputs": [
    {
     "name": "stdout",
     "output_type": "stream",
     "text": [
      "0    10\n",
      "1    20\n",
      "2    30\n",
      "3    40\n",
      "dtype: int64\n"
     ]
    }
   ],
   "source": [
    "print(sr)"
   ]
  },
  {
   "cell_type": "code",
   "execution_count": 4,
   "metadata": {
    "colab": {
     "base_uri": "https://localhost:8080/"
    },
    "executionInfo": {
     "elapsed": 31,
     "status": "ok",
     "timestamp": 1654577220342,
     "user": {
      "displayName": "황성훈",
      "userId": "12326129479455956294"
     },
     "user_tz": -540
    },
    "id": "7XiA9pMhgdTn",
    "outputId": "d60de244-f9a1-4034-ed5f-b5217f0c8a85"
   },
   "outputs": [
    {
     "name": "stdout",
     "output_type": "stream",
     "text": [
      "1번    길동\n",
      "2번    이동\n",
      "3번    삼동\n",
      "4번    사동\n",
      "5번    오동\n",
      "dtype: object\n"
     ]
    }
   ],
   "source": [
    "sr=pd.Series(,\n",
    "             index=)\n",
    "            \n",
    "print(sr)"
   ]
  },
  {
   "cell_type": "code",
   "execution_count": 5,
   "metadata": {
    "colab": {
     "base_uri": "https://localhost:8080/"
    },
    "executionInfo": {
     "elapsed": 30,
     "status": "ok",
     "timestamp": 1654577220342,
     "user": {
      "displayName": "황성훈",
      "userId": "12326129479455956294"
     },
     "user_tz": -540
    },
    "id": "1BuhUKWKhMi0",
    "outputId": "1d77d2d1-abe3-42f7-c5a3-00d6b7b0e08c"
   },
   "outputs": [
    {
     "name": "stdout",
     "output_type": "stream",
     "text": [
      "index : Index(['1번', '2번', '3번', '4번', '5번'], dtype='object')\n",
      "values: ['길동' '이동' '삼동' '사동' '오동']\n"
     ]
    }
   ],
   "source": [
    "print(\"index :\", )\n",
    "print(\"values:\", )"
   ]
  },
  {
   "cell_type": "code",
   "execution_count": 6,
   "metadata": {
    "colab": {
     "base_uri": "https://localhost:8080/",
     "height": 35
    },
    "executionInfo": {
     "elapsed": 29,
     "status": "ok",
     "timestamp": 1654577220343,
     "user": {
      "displayName": "황성훈",
      "userId": "12326129479455956294"
     },
     "user_tz": -540
    },
    "id": "59iCU66Xhyh7",
    "outputId": "50e1fc6d-f871-4bbe-f744-c009a5f86187"
   },
   "outputs": [
    {
     "data": {
      "text/plain": [
       "'삼동'"
      ]
     },
     "execution_count": 6,
     "metadata": {},
     "output_type": "execute_result"
    }
   ],
   "source": [
    "sr[]"
   ]
  },
  {
   "cell_type": "code",
   "execution_count": 7,
   "metadata": {
    "colab": {
     "base_uri": "https://localhost:8080/",
     "height": 35
    },
    "executionInfo": {
     "elapsed": 28,
     "status": "ok",
     "timestamp": 1654577220343,
     "user": {
      "displayName": "황성훈",
      "userId": "12326129479455956294"
     },
     "user_tz": -540
    },
    "id": "pZFWasTUiHZm",
    "outputId": "c398381e-f3dd-4052-8519-543644106c75"
   },
   "outputs": [
    {
     "data": {
      "text/plain": [
       "'사동'"
      ]
     },
     "execution_count": 7,
     "metadata": {},
     "output_type": "execute_result"
    }
   ],
   "source": [
    "sr[]"
   ]
  },
  {
   "cell_type": "code",
   "execution_count": 8,
   "metadata": {
    "colab": {
     "base_uri": "https://localhost:8080/",
     "height": 35
    },
    "executionInfo": {
     "elapsed": 27,
     "status": "ok",
     "timestamp": 1654577220343,
     "user": {
      "displayName": "황성훈",
      "userId": "12326129479455956294"
     },
     "user_tz": -540
    },
    "id": "NURQSatmiNwt",
    "outputId": "252039b9-e644-41bb-8b4e-80085aca9440"
   },
   "outputs": [
    {
     "data": {
      "text/plain": [
       "'사동'"
      ]
     },
     "execution_count": 8,
     "metadata": {},
     "output_type": "execute_result"
    }
   ],
   "source": [
    "sr.values[]"
   ]
  },
  {
   "cell_type": "code",
   "execution_count": 9,
   "metadata": {
    "colab": {
     "base_uri": "https://localhost:8080/",
     "height": 35
    },
    "executionInfo": {
     "elapsed": 26,
     "status": "ok",
     "timestamp": 1654577220343,
     "user": {
      "displayName": "황성훈",
      "userId": "12326129479455956294"
     },
     "user_tz": -540
    },
    "id": "I1JZsgeOihA1",
    "outputId": "f05c5f24-cb8c-49ec-851b-531e6eefea48"
   },
   "outputs": [
    {
     "data": {
      "text/plain": [
       "'4번'"
      ]
     },
     "execution_count": 9,
     "metadata": {},
     "output_type": "execute_result"
    }
   ],
   "source": [
    "sr.index[]"
   ]
  },
  {
   "cell_type": "code",
   "execution_count": 10,
   "metadata": {
    "colab": {
     "base_uri": "https://localhost:8080/"
    },
    "executionInfo": {
     "elapsed": 26,
     "status": "ok",
     "timestamp": 1654577220344,
     "user": {
      "displayName": "황성훈",
      "userId": "12326129479455956294"
     },
     "user_tz": -540
    },
    "id": "PjJr50rciopl",
    "outputId": "1bd85a39-64c0-4e7f-c830-3fcf995d2d62"
   },
   "outputs": [
    {
     "data": {
      "text/plain": [
       "Index(['1번', '2번'], dtype='object')"
      ]
     },
     "execution_count": 10,
     "metadata": {},
     "output_type": "execute_result"
    }
   ],
   "source": [
    "sr.index[]"
   ]
  },
  {
   "cell_type": "code",
   "execution_count": 11,
   "metadata": {
    "id": "-V5JxUnGjMHI"
   },
   "outputs": [],
   "source": [
    "sr['3번']="
   ]
  },
  {
   "cell_type": "code",
   "execution_count": 12,
   "metadata": {
    "colab": {
     "base_uri": "https://localhost:8080/"
    },
    "executionInfo": {
     "elapsed": 24,
     "status": "ok",
     "timestamp": 1654577220344,
     "user": {
      "displayName": "황성훈",
      "userId": "12326129479455956294"
     },
     "user_tz": -540
    },
    "id": "JY6O7N6Vj-Vb",
    "outputId": "dca6e2d6-2d57-4871-b5b8-350cf78b93e4"
   },
   "outputs": [
    {
     "name": "stdout",
     "output_type": "stream",
     "text": [
      "1번    길동\n",
      "2번    이동\n",
      "3번    우솝\n",
      "4번    사동\n",
      "5번    오동\n",
      "dtype: object\n"
     ]
    }
   ],
   "source": [
    "print(sr)"
   ]
  },
  {
   "cell_type": "code",
   "execution_count": 13,
   "metadata": {
    "id": "a33j-uJTkBY0"
   },
   "outputs": [],
   "source": [
    "sr['6번']="
   ]
  },
  {
   "cell_type": "code",
   "execution_count": 14,
   "metadata": {
    "colab": {
     "base_uri": "https://localhost:8080/"
    },
    "executionInfo": {
     "elapsed": 23,
     "status": "ok",
     "timestamp": 1654577220345,
     "user": {
      "displayName": "황성훈",
      "userId": "12326129479455956294"
     },
     "user_tz": -540
    },
    "id": "PmnAEf2ekKpf",
    "outputId": "ee611edb-7c52-42ac-9104-934486408f08"
   },
   "outputs": [
    {
     "name": "stdout",
     "output_type": "stream",
     "text": [
      "1번     길동\n",
      "2번     이동\n",
      "3번     우솝\n",
      "4번     사동\n",
      "5번     오동\n",
      "6번    프랑키\n",
      "dtype: object\n"
     ]
    }
   ],
   "source": [
    "print(sr)"
   ]
  },
  {
   "cell_type": "code",
   "execution_count": 15,
   "metadata": {
    "colab": {
     "base_uri": "https://localhost:8080/"
    },
    "executionInfo": {
     "elapsed": 21,
     "status": "ok",
     "timestamp": 1654577220345,
     "user": {
      "displayName": "황성훈",
      "userId": "12326129479455956294"
     },
     "user_tz": -540
    },
    "id": "FLAQkAdgkMPw",
    "outputId": "2772b0c4-9f77-46aa-e7ea-d524bb78f0cf"
   },
   "outputs": [
    {
     "name": "stdout",
     "output_type": "stream",
     "text": [
      "0    3\n",
      "1    7\n",
      "dtype: int64 \n",
      "\n",
      "0   -1\n",
      "1   -1\n",
      "dtype: int64 \n",
      "\n",
      "0     2\n",
      "1    12\n",
      "dtype: int64 \n",
      "\n",
      "0    0.50\n",
      "1    0.75\n",
      "dtype: float64 \n",
      "\n"
     ]
    }
   ],
   "source": [
    "sr1=pd.Series()\n",
    "sr2=pd.Series()\n",
    "print(sr1+sr2,'\\n')\n",
    "print(sr1-sr2,'\\n')\n",
    "print(sr1*sr2,'\\n')\n",
    "print(sr1/sr2,'\\n')"
   ]
  },
  {
   "cell_type": "code",
   "execution_count": 16,
   "metadata": {
    "colab": {
     "base_uri": "https://localhost:8080/",
     "height": 206
    },
    "executionInfo": {
     "elapsed": 433,
     "status": "ok",
     "timestamp": 1654577220760,
     "user": {
      "displayName": "황성훈",
      "userId": "12326129479455956294"
     },
     "user_tz": -540
    },
    "id": "XTptU_i-kyEV",
    "outputId": "5e489b34-469c-4e9d-8dc8-abc25f48d1b5"
   },
   "outputs": [
    {
     "data": {
      "text/html": [
       "<div>\n",
       "<style scoped>\n",
       "    .dataframe tbody tr th:only-of-type {\n",
       "        vertical-align: middle;\n",
       "    }\n",
       "\n",
       "    .dataframe tbody tr th {\n",
       "        vertical-align: top;\n",
       "    }\n",
       "\n",
       "    .dataframe thead th {\n",
       "        text-align: right;\n",
       "    }\n",
       "</style>\n",
       "<table border=\"1\" class=\"dataframe\">\n",
       "  <thead>\n",
       "    <tr style=\"text-align: right;\">\n",
       "      <th></th>\n",
       "      <th>0</th>\n",
       "      <th>1</th>\n",
       "      <th>2</th>\n",
       "    </tr>\n",
       "  </thead>\n",
       "  <tbody>\n",
       "    <tr>\n",
       "      <th>0</th>\n",
       "      <td>150000</td>\n",
       "      <td>4.9</td>\n",
       "      <td>길동</td>\n",
       "    </tr>\n",
       "    <tr>\n",
       "      <th>1</th>\n",
       "      <td>120000</td>\n",
       "      <td>4.5</td>\n",
       "      <td>이동</td>\n",
       "    </tr>\n",
       "    <tr>\n",
       "      <th>2</th>\n",
       "      <td>125000</td>\n",
       "      <td>4.7</td>\n",
       "      <td>삼동</td>\n",
       "    </tr>\n",
       "    <tr>\n",
       "      <th>3</th>\n",
       "      <td>100000</td>\n",
       "      <td>4.7</td>\n",
       "      <td>사동</td>\n",
       "    </tr>\n",
       "    <tr>\n",
       "      <th>4</th>\n",
       "      <td>200</td>\n",
       "      <td>4.9</td>\n",
       "      <td>오동</td>\n",
       "    </tr>\n",
       "  </tbody>\n",
       "</table>\n",
       "</div>"
      ],
      "text/plain": [
       "        0    1   2\n",
       "0  150000  4.9  길동\n",
       "1  120000  4.5  이동\n",
       "2  125000  4.7  삼동\n",
       "3  100000  4.7  사동\n",
       "4     200  4.9  오동"
      ]
     },
     "execution_count": 16,
     "metadata": {},
     "output_type": "execute_result"
    }
   ],
   "source": [
    "data=[[150000, 4.9, \"길동\"],\n",
    "      [120000, 4.5, \"이동\"],\n",
    "      [125000, 4.7, \"삼동\"],\n",
    "      [100000, 4.7, \"사동\"],\n",
    "      [200,4.9, \"오동\"]]\n",
    "df=pd.DataFrame(data)\n",
    "df"
   ]
  },
  {
   "cell_type": "code",
   "execution_count": 17,
   "metadata": {
    "colab": {
     "base_uri": "https://localhost:8080/",
     "height": 206
    },
    "executionInfo": {
     "elapsed": 37,
     "status": "ok",
     "timestamp": 1654577220761,
     "user": {
      "displayName": "황성훈",
      "userId": "12326129479455956294"
     },
     "user_tz": -540
    },
    "id": "wJtOaRivmh90",
    "outputId": "40391152-c830-43c9-fa7e-29f1df712ce2"
   },
   "outputs": [
    {
     "data": {
      "text/html": [
       "<div>\n",
       "<style scoped>\n",
       "    .dataframe tbody tr th:only-of-type {\n",
       "        vertical-align: middle;\n",
       "    }\n",
       "\n",
       "    .dataframe tbody tr th {\n",
       "        vertical-align: top;\n",
       "    }\n",
       "\n",
       "    .dataframe thead th {\n",
       "        text-align: right;\n",
       "    }\n",
       "</style>\n",
       "<table border=\"1\" class=\"dataframe\">\n",
       "  <thead>\n",
       "    <tr style=\"text-align: right;\">\n",
       "      <th></th>\n",
       "      <th>급여</th>\n",
       "      <th>인기</th>\n",
       "      <th>이름</th>\n",
       "    </tr>\n",
       "  </thead>\n",
       "  <tbody>\n",
       "    <tr>\n",
       "      <th>기장</th>\n",
       "      <td>150000</td>\n",
       "      <td>4.9</td>\n",
       "      <td>길동</td>\n",
       "    </tr>\n",
       "    <tr>\n",
       "      <th>조종사</th>\n",
       "      <td>120000</td>\n",
       "      <td>4.5</td>\n",
       "      <td>이동</td>\n",
       "    </tr>\n",
       "    <tr>\n",
       "      <th>요리사</th>\n",
       "      <td>125000</td>\n",
       "      <td>4.7</td>\n",
       "      <td>삼동</td>\n",
       "    </tr>\n",
       "    <tr>\n",
       "      <th>항해사</th>\n",
       "      <td>100000</td>\n",
       "      <td>4.7</td>\n",
       "      <td>사동</td>\n",
       "    </tr>\n",
       "    <tr>\n",
       "      <th>의사</th>\n",
       "      <td>200</td>\n",
       "      <td>4.9</td>\n",
       "      <td>오동</td>\n",
       "    </tr>\n",
       "  </tbody>\n",
       "</table>\n",
       "</div>"
      ],
      "text/plain": [
       "         급여   인기  이름\n",
       "기장   150000  4.9  길동\n",
       "조종사  120000  4.5  이동\n",
       "요리사  125000  4.7  삼동\n",
       "항해사  100000  4.7  사동\n",
       "의사      200  4.9  오동"
      ]
     },
     "execution_count": 17,
     "metadata": {},
     "output_type": "execute_result"
    }
   ],
   "source": [
    "df=pd.DataFrame(\n",
    "\n",
    "\n",
    ")\n",
    "df"
   ]
  },
  {
   "cell_type": "code",
   "execution_count": 18,
   "metadata": {
    "colab": {
     "base_uri": "https://localhost:8080/"
    },
    "executionInfo": {
     "elapsed": 36,
     "status": "ok",
     "timestamp": 1654577220761,
     "user": {
      "displayName": "황성훈",
      "userId": "12326129479455956294"
     },
     "user_tz": -540
    },
    "id": "RKtE6xnHjdRA",
    "outputId": "e9f39b14-dd40-46ab-8274-ec239d460dee"
   },
   "outputs": [
    {
     "name": "stdout",
     "output_type": "stream",
     "text": [
      "index : Index(['기장', '조종사', '요리사', '항해사', '의사'], dtype='object')\n"
     ]
    }
   ],
   "source": [
    "print('index :', )"
   ]
  },
  {
   "cell_type": "code",
   "execution_count": 19,
   "metadata": {
    "colab": {
     "base_uri": "https://localhost:8080/"
    },
    "executionInfo": {
     "elapsed": 33,
     "status": "ok",
     "timestamp": 1654577220761,
     "user": {
      "displayName": "황성훈",
      "userId": "12326129479455956294"
     },
     "user_tz": -540
    },
    "id": "_DOzmGBEjmyJ",
    "outputId": "419b6f0e-4685-4139-b020-d42af428d330"
   },
   "outputs": [
    {
     "data": {
      "text/plain": [
       "Index(['기장', '조종사'], dtype='object')"
      ]
     },
     "execution_count": 19,
     "metadata": {},
     "output_type": "execute_result"
    }
   ],
   "source": [
    "df.index[]"
   ]
  },
  {
   "cell_type": "code",
   "execution_count": 20,
   "metadata": {
    "colab": {
     "base_uri": "https://localhost:8080/",
     "height": 35
    },
    "executionInfo": {
     "elapsed": 32,
     "status": "ok",
     "timestamp": 1654577220761,
     "user": {
      "displayName": "황성훈",
      "userId": "12326129479455956294"
     },
     "user_tz": -540
    },
    "id": "dcwtJbJtj8hi",
    "outputId": "8f638bf7-e934-4427-bbea-e5864787c71b"
   },
   "outputs": [
    {
     "data": {
      "text/plain": [
       "'이름'"
      ]
     },
     "execution_count": 20,
     "metadata": {},
     "output_type": "execute_result"
    }
   ],
   "source": [
    "df.columns[-1]  #결과"
   ]
  },
  {
   "cell_type": "code",
   "execution_count": 21,
   "metadata": {
    "colab": {
     "base_uri": "https://localhost:8080/",
     "height": 35
    },
    "executionInfo": {
     "elapsed": 32,
     "status": "ok",
     "timestamp": 1654577220762,
     "user": {
      "displayName": "황성훈",
      "userId": "12326129479455956294"
     },
     "user_tz": -540
    },
    "id": "IqGqhIXKkGg-",
    "outputId": "98889859-6142-4bb1-f667-7d06fad93166"
   },
   "outputs": [
    {
     "data": {
      "text/plain": [
       "'이동'"
      ]
     },
     "execution_count": 21,
     "metadata": {},
     "output_type": "execute_result"
    }
   ],
   "source": [
    "df.values[1][2]  #결과"
   ]
  },
  {
   "cell_type": "code",
   "execution_count": 22,
   "metadata": {
    "colab": {
     "base_uri": "https://localhost:8080/"
    },
    "executionInfo": {
     "elapsed": 31,
     "status": "ok",
     "timestamp": 1654577220762,
     "user": {
      "displayName": "황성훈",
      "userId": "12326129479455956294"
     },
     "user_tz": -540
    },
    "id": "vXOJXKOBkf9d",
    "outputId": "abda99a9-c8a0-4080-eb40-33699923f805"
   },
   "outputs": [
    {
     "data": {
      "text/plain": [
       "기장     길동\n",
       "조종사    이동\n",
       "요리사    삼동\n",
       "항해사    사동\n",
       "의사     오동\n",
       "Name: 이름, dtype: object"
      ]
     },
     "execution_count": 22,
     "metadata": {},
     "output_type": "execute_result"
    }
   ],
   "source": [
    "df.이름  #결과"
   ]
  },
  {
   "cell_type": "code",
   "execution_count": 23,
   "metadata": {
    "colab": {
     "base_uri": "https://localhost:8080/"
    },
    "executionInfo": {
     "elapsed": 30,
     "status": "ok",
     "timestamp": 1654577220762,
     "user": {
      "displayName": "황성훈",
      "userId": "12326129479455956294"
     },
     "user_tz": -540
    },
    "id": "2CukbBYdkpkk",
    "outputId": "1af7f85d-0517-42fd-ebf6-c126232bd1c9"
   },
   "outputs": [
    {
     "name": "stdout",
     "output_type": "stream",
     "text": [
      "4.9\n",
      "4.5\n",
      "4.7\n",
      "4.7\n",
      "4.9\n"
     ]
    }
   ],
   "source": [
    "for i in df.values[:,1]:\n",
    "    print(i)"
   ]
  },
  {
   "cell_type": "code",
   "execution_count": 24,
   "metadata": {
    "colab": {
     "base_uri": "https://localhost:8080/",
     "height": 35
    },
    "executionInfo": {
     "elapsed": 28,
     "status": "ok",
     "timestamp": 1654577220762,
     "user": {
      "displayName": "황성훈",
      "userId": "12326129479455956294"
     },
     "user_tz": -540
    },
    "id": "cfbG6d-Ak-9m",
    "outputId": "0904c271-3118-442f-b76c-24b3138ef250"
   },
   "outputs": [
    {
     "data": {
      "text/plain": [
       "'삼동'"
      ]
     },
     "execution_count": 24,
     "metadata": {},
     "output_type": "execute_result"
    }
   ],
   "source": [
    "df['이름'][2]"
   ]
  },
  {
   "cell_type": "code",
   "execution_count": 25,
   "metadata": {
    "colab": {
     "base_uri": "https://localhost:8080/"
    },
    "executionInfo": {
     "elapsed": 27,
     "status": "ok",
     "timestamp": 1654577220762,
     "user": {
      "displayName": "황성훈",
      "userId": "12326129479455956294"
     },
     "user_tz": -540
    },
    "id": "K-ZYsMMdlaF6",
    "outputId": "aa997fda-c87b-44bf-92d1-f654f874632d"
   },
   "outputs": [
    {
     "data": {
      "text/plain": [
       "급여    150000\n",
       "인기       4.9\n",
       "이름        길동\n",
       "Name: 기장, dtype: object"
      ]
     },
     "execution_count": 25,
     "metadata": {},
     "output_type": "execute_result"
    }
   ],
   "source": [
    "df.loc['기장']   #df.loc[행 인덱싱 값, 열 인덱싱 값]"
   ]
  },
  {
   "cell_type": "code",
   "execution_count": 26,
   "metadata": {
    "colab": {
     "base_uri": "https://localhost:8080/"
    },
    "executionInfo": {
     "elapsed": 27,
     "status": "ok",
     "timestamp": 1654577220763,
     "user": {
      "displayName": "황성훈",
      "userId": "12326129479455956294"
     },
     "user_tz": -540
    },
    "id": "CULQKgpdl8Ar",
    "outputId": "355acad0-dac9-4091-f2cd-173755bf1f1c"
   },
   "outputs": [
    {
     "data": {
      "text/plain": [
       "급여    150000\n",
       "인기       4.9\n",
       "이름        길동\n",
       "Name: 기장, dtype: object"
      ]
     },
     "execution_count": 26,
     "metadata": {},
     "output_type": "execute_result"
    }
   ],
   "source": [
    "df.iloc[0]     #df.iloc[행 인덱스, 열 인덱스]"
   ]
  },
  {
   "cell_type": "code",
   "execution_count": 27,
   "metadata": {
    "colab": {
     "base_uri": "https://localhost:8080/",
     "height": 300
    },
    "executionInfo": {
     "elapsed": 26,
     "status": "ok",
     "timestamp": 1654577220763,
     "user": {
      "displayName": "황성훈",
      "userId": "12326129479455956294"
     },
     "user_tz": -540
    },
    "id": "L44iV0VhmQZh",
    "outputId": "cde7f90b-346d-4add-bfa2-02f9cb042eea"
   },
   "outputs": [
    {
     "data": {
      "text/html": [
       "<div>\n",
       "<style scoped>\n",
       "    .dataframe tbody tr th:only-of-type {\n",
       "        vertical-align: middle;\n",
       "    }\n",
       "\n",
       "    .dataframe tbody tr th {\n",
       "        vertical-align: top;\n",
       "    }\n",
       "\n",
       "    .dataframe thead th {\n",
       "        text-align: right;\n",
       "    }\n",
       "</style>\n",
       "<table border=\"1\" class=\"dataframe\">\n",
       "  <thead>\n",
       "    <tr style=\"text-align: right;\">\n",
       "      <th></th>\n",
       "      <th>급여</th>\n",
       "      <th>인기</th>\n",
       "    </tr>\n",
       "  </thead>\n",
       "  <tbody>\n",
       "    <tr>\n",
       "      <th>count</th>\n",
       "      <td>5.000000</td>\n",
       "      <td>5.000000</td>\n",
       "    </tr>\n",
       "    <tr>\n",
       "      <th>mean</th>\n",
       "      <td>99040.000000</td>\n",
       "      <td>4.740000</td>\n",
       "    </tr>\n",
       "    <tr>\n",
       "      <th>std</th>\n",
       "      <td>58052.631293</td>\n",
       "      <td>0.167332</td>\n",
       "    </tr>\n",
       "    <tr>\n",
       "      <th>min</th>\n",
       "      <td>200.000000</td>\n",
       "      <td>4.500000</td>\n",
       "    </tr>\n",
       "    <tr>\n",
       "      <th>25%</th>\n",
       "      <td>100000.000000</td>\n",
       "      <td>4.700000</td>\n",
       "    </tr>\n",
       "    <tr>\n",
       "      <th>50%</th>\n",
       "      <td>120000.000000</td>\n",
       "      <td>4.700000</td>\n",
       "    </tr>\n",
       "    <tr>\n",
       "      <th>75%</th>\n",
       "      <td>125000.000000</td>\n",
       "      <td>4.900000</td>\n",
       "    </tr>\n",
       "    <tr>\n",
       "      <th>max</th>\n",
       "      <td>150000.000000</td>\n",
       "      <td>4.900000</td>\n",
       "    </tr>\n",
       "  </tbody>\n",
       "</table>\n",
       "</div>"
      ],
      "text/plain": [
       "                  급여        인기\n",
       "count       5.000000  5.000000\n",
       "mean    99040.000000  4.740000\n",
       "std     58052.631293  0.167332\n",
       "min       200.000000  4.500000\n",
       "25%    100000.000000  4.700000\n",
       "50%    120000.000000  4.700000\n",
       "75%    125000.000000  4.900000\n",
       "max    150000.000000  4.900000"
      ]
     },
     "execution_count": 27,
     "metadata": {},
     "output_type": "execute_result"
    }
   ],
   "source": [
    "df.describe()"
   ]
  },
  {
   "cell_type": "code",
   "execution_count": 28,
   "metadata": {
    "colab": {
     "base_uri": "https://localhost:8080/"
    },
    "executionInfo": {
     "elapsed": 25,
     "status": "ok",
     "timestamp": 1654577220763,
     "user": {
      "displayName": "황성훈",
      "userId": "12326129479455956294"
     },
     "user_tz": -540
    },
    "id": "Umb_hOkdmdyJ",
    "outputId": "d74f2376-7ce3-4395-81dc-56a5b2b5a7d9"
   },
   "outputs": [
    {
     "data": {
      "text/plain": [
       "급여        495200\n",
       "인기          23.7\n",
       "이름    길동이동삼동사동오동\n",
       "dtype: object"
      ]
     },
     "execution_count": 28,
     "metadata": {},
     "output_type": "execute_result"
    }
   ],
   "source": [
    "df.sum()"
   ]
  },
  {
   "cell_type": "code",
   "execution_count": 31,
   "metadata": {
    "colab": {
     "base_uri": "https://localhost:8080/"
    },
    "executionInfo": {
     "elapsed": 2542,
     "status": "ok",
     "timestamp": 1654577223287,
     "user": {
      "displayName": "황성훈",
      "userId": "12326129479455956294"
     },
     "user_tz": -540
    },
    "id": "uEte6oFHnEQo",
    "outputId": "9aedb3bd-ee3e-46f1-d92e-eb0714f0a05e"
   },
   "outputs": [],
   "source": [
    "import matplotlib.pyplot as plt\n",
    "plt.rc(, family=)"
   ]
  },
  {
   "cell_type": "code",
   "execution_count": 32,
   "metadata": {
    "colab": {
     "base_uri": "https://localhost:8080/",
     "height": 284
    },
    "executionInfo": {
     "elapsed": 609,
     "status": "ok",
     "timestamp": 1654577223889,
     "user": {
      "displayName": "황성훈",
      "userId": "12326129479455956294"
     },
     "user_tz": -540
    },
    "id": "cHZVW-6bpWNf",
    "outputId": "61560161-8e12-4399-c00c-f76561f68883"
   },
   "outputs": [
    {
     "data": {
      "text/plain": [
       "<matplotlib.legend.Legend at 0x23bae9136c8>"
      ]
     },
     "execution_count": 32,
     "metadata": {},
     "output_type": "execute_result"
    },
    {
     "data": {
      "image/png": "[encoded data removed]",
      "text/plain": [
       "<Figure size 432x288 with 1 Axes>"
      ]
     },
     "metadata": {
      "needs_background": "light"
     },
     "output_type": "display_data"
    }
   ],
   "source": [
    "plt.plot(df['급여'], '-o',  label=)\n",
    "plt.legend()"
   ]
  },
  {
   "cell_type": "code",
   "execution_count": null,
   "metadata": {},
   "outputs": [],
   "source": []
  }
 ],
 "metadata": {
  "colab": {
   "authorship_tag": "ABX9TyOjoYBZWQJjQHYY5NfcshmH",
   "mount_file_id": "15XFYtGlRcxwb2sFqGQb_1xZul8cBBq4y",
   "name": "pandas 기본.ipynb",
   "provenance": [
    {
     "file_id": "15XFYtGlRcxwb2sFqGQb_1xZul8cBBq4y",
     "timestamp": 1654514353863
    }
   ]
  },
  "kernelspec": {
   "display_name": "Python 3 (ipykernel)",
   "language": "python",
   "name": "python3"
  },
  "language_info": {
   "codemirror_mode": {
    "name": "ipython",
    "version": 3
   },
   "file_extension": ".py",
   "mimetype": "text/x-python",
   "name": "python",
   "nbconvert_exporter": "python",
   "pygments_lexer": "ipython3",
   "version": "3.7.11"
  }
 },
 "nbformat": 4,
 "nbformat_minor": 1
}
